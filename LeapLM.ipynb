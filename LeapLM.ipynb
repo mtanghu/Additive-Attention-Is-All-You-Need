{
 "cells": [
  {
   "cell_type": "code",
   "execution_count": null,
   "metadata": {},
   "outputs": [],
   "source": [
    "from leap import LeapForCausalLM, LeapConfig\n",
    "from transformers import TrainingArguments, Trainer, default_data_collator\n",
    "from datasets import load_dataset\n",
    "\n",
    "from itertools import chain"
   ]
  },
  {
   "cell_type": "code",
   "execution_count": null,
   "metadata": {},
   "outputs": [
    {
     "name": "stderr",
     "output_type": "stream",
     "text": [
      "C:\\Users\\micha\\anaconda3\\lib\\site-packages\\transformers\\models\\t5\\tokenization_t5_fast.py:156: FutureWarning: This tokenizer was incorrectly instantiated with a model max length of 512 which will be corrected in Transformers v5.\n",
      "For now, this behavior is kept to avoid breaking backwards compatibility when padding/encoding with `truncation is True`.\n",
      "- Be aware that you SHOULD NOT rely on t5-small automatically truncating your input to 512 when padding/encoding.\n",
      "- If you want to encode/pad to sequences longer than 512 you can either instantiate this tokenizer with `model_max_length` or pass `max_length` when encoding/padding.\n",
      "- To avoid this warning, please instantiate this tokenizer with `model_max_length` set to your preferred value.\n",
      "  warnings.warn(\n"
     ]
    }
   ],
   "source": [
    "# t5 tokenzier, warning is nothing to worry about since we will group the texts\n",
    "from transformers import AutoTokenizer\n",
    "tokenizer = AutoTokenizer.from_pretrained(\"t5-small\")"
   ]
  },
  {
   "cell_type": "code",
   "execution_count": null,
   "metadata": {},
   "outputs": [
    {
     "name": "stderr",
     "output_type": "stream",
     "text": [
      "Reusing dataset wikitext (C:\\Users\\micha\\.cache\\huggingface\\datasets\\wikitext\\wikitext-2-v1\\1.0.0\\a241db52902eaf2c6aa732210bead40c090019a499ceb13bcbfa3f8ab646a126)\n"
     ]
    },
    {
     "data": {
      "application/vnd.jupyter.widget-view+json": {
       "model_id": "814ac04ba52941749f81f15aa7529af3",
       "version_major": 2,
       "version_minor": 0
      },
      "text/plain": [
       "  0%|          | 0/3 [00:00<?, ?it/s]"
      ]
     },
     "metadata": {},
     "output_type": "display_data"
    },
    {
     "name": "stderr",
     "output_type": "stream",
     "text": [
      "Loading cached processed dataset at C:\\Users\\micha\\.cache\\huggingface\\datasets\\wikitext\\wikitext-2-v1\\1.0.0\\a241db52902eaf2c6aa732210bead40c090019a499ceb13bcbfa3f8ab646a126\\cache-f37a0e1d2b8653e1.arrow\n",
      "Loading cached processed dataset at C:\\Users\\micha\\.cache\\huggingface\\datasets\\wikitext\\wikitext-2-v1\\1.0.0\\a241db52902eaf2c6aa732210bead40c090019a499ceb13bcbfa3f8ab646a126\\cache-11f852fec431ca73.arrow\n",
      "Loading cached processed dataset at C:\\Users\\micha\\.cache\\huggingface\\datasets\\wikitext\\wikitext-2-v1\\1.0.0\\a241db52902eaf2c6aa732210bead40c090019a499ceb13bcbfa3f8ab646a126\\cache-f34b03b1d56e9cb0.arrow\n",
      "Loading cached processed dataset at C:\\Users\\micha\\.cache\\huggingface\\datasets\\wikitext\\wikitext-2-v1\\1.0.0\\a241db52902eaf2c6aa732210bead40c090019a499ceb13bcbfa3f8ab646a126\\cache-75498eacd22f25cc.arrow\n",
      "Loading cached processed dataset at C:\\Users\\micha\\.cache\\huggingface\\datasets\\wikitext\\wikitext-2-v1\\1.0.0\\a241db52902eaf2c6aa732210bead40c090019a499ceb13bcbfa3f8ab646a126\\cache-0d438b212cccd491.arrow\n",
      "Loading cached processed dataset at C:\\Users\\micha\\.cache\\huggingface\\datasets\\wikitext\\wikitext-2-v1\\1.0.0\\a241db52902eaf2c6aa732210bead40c090019a499ceb13bcbfa3f8ab646a126\\cache-1ed91ef60323d639.arrow\n"
     ]
    }
   ],
   "source": [
    "raw_datasets = load_dataset(\"wikitext\", \"wikitext-2-v1\")\n",
    "column_names = raw_datasets[\"train\"].column_names\n",
    "text_column_name = \"text\" if \"text\" in column_names else column_names[0]\n",
    "block_size = 2048\n",
    "\n",
    "def tokenize_function(examples):\n",
    "    output = tokenizer(examples[text_column_name])\n",
    "    return output\n",
    "\n",
    "def group_texts(examples):\n",
    "    # Concatenate all texts.\n",
    "    concatenated_examples = {k: list(chain(*examples[k])) for k in examples.keys()}\n",
    "    total_length = len(concatenated_examples[list(examples.keys())[0]])\n",
    "    # We drop the small remainder, we could add padding if the model supported it instead of this drop, you can\n",
    "    # customize this part to your needs.\n",
    "    if total_length >= block_size:\n",
    "        total_length = (total_length // block_size) * block_size\n",
    "    # Split by chunks of max_len.\n",
    "    result = {\n",
    "        k: [t[i : i + block_size] for i in range(0, total_length, block_size)]\n",
    "        for k, t in concatenated_examples.items()\n",
    "    }\n",
    "    result[\"labels\"] = result[\"input_ids\"].copy()\n",
    "    return result\n",
    "\n",
    "tokenized_datasets = raw_datasets.map(\n",
    "            tokenize_function,\n",
    "            batched=True,\n",
    "            num_proc=1,\n",
    "            remove_columns=column_names,\n",
    "        )\n",
    "\n",
    "lm_dataset = tokenized_datasets.map(\n",
    "    group_texts,\n",
    "    batched=True,\n",
    "    num_proc=1,\n",
    "    desc=f\"Grouping texts in chunks of {block_size}\",\n",
    ")\n",
    "\n",
    "lm_dataset.set_format('pt')"
   ]
  },
  {
   "cell_type": "code",
   "execution_count": null,
   "metadata": {},
   "outputs": [],
   "source": [
    "# hyperparameters\n",
    "training_args = TrainingArguments(\n",
    "    output_dir = \"./results\",\n",
    "    logging_strategy = \"epoch\",\n",
    "    evaluation_strategy =\"epoch\",\n",
    "    save_strategy = \"epoch\",\n",
    "    report_to = \"none\",\n",
    "    learning_rate = 5e-4, \n",
    "    num_train_epochs = 25,\n",
    "    per_device_train_batch_size = 2,\n",
    "    per_device_eval_batch_size = 2,\n",
    "    load_best_model_at_end = True,\n",
    "    metric_for_best_model = \"eval_loss\",\n",
    "    max_grad_norm = 1,\n",
    "    fp16 = True\n",
    ")\n",
    "# learning rates tried 1e-4, 5e-4, 1e-3\n",
    "# 5e-4 yielded best results on BOTH windowed additive attention and gpt in terms of validation loss\n",
    "\n",
    "config = LeapConfig(\n",
    "    hidden_size = 128,\n",
    "    vocab_size = len(tokenizer),\n",
    "    n_positions = block_size,\n",
    "    n_heads = 4,\n",
    "    n_layer = 6,\n",
    "    use_local_att = False,\n",
    "    window_sizes = None,\n",
    "    hidden_dropout_prob = .1\n",
    ")"
   ]
  },
  {
   "cell_type": "markdown",
   "metadata": {},
   "source": [
    "# 1. LEAP Transformer (with windowing)"
   ]
  },
  {
   "cell_type": "code",
   "execution_count": null,
   "metadata": {},
   "outputs": [],
   "source": [
    "config = LeapConfig(\n",
    "    hidden_size = 128,\n",
    "    vocab_size = len(tokenizer),\n",
    "    n_positions = block_size,\n",
    "    n_heads = 4,\n",
    "    n_layer = 6,\n",
    "    use_local_att = True,\n",
    "    window_sizes = None, # will be set automatically\n",
    "    hidden_dropout_prob = .1\n",
    ")\n",
    "window_model = LeapForCausalLM(config)"
   ]
  },
  {
   "cell_type": "code",
   "execution_count": null,
   "metadata": {},
   "outputs": [
    {
     "data": {
      "text/plain": [
       "'5.6M'"
      ]
     },
     "execution_count": null,
     "metadata": {},
     "output_type": "execute_result"
    }
   ],
   "source": [
    "pytorch_total_params = sum(p.numel() for p in window_model.parameters() if p.requires_grad)\n",
    "f'{(pytorch_total_params / 1e6):2.1f}M'"
   ]
  },
  {
   "cell_type": "code",
   "execution_count": null,
   "metadata": {},
   "outputs": [],
   "source": [
    "window_trainer = Trainer(\n",
    "    model=window_model,\n",
    "    args=training_args,\n",
    "    data_collator=default_data_collator,\n",
    "    train_dataset=lm_dataset[\"train\"],\n",
    "    eval_dataset=lm_dataset[\"validation\"]\n",
    ")\n",
    "\n",
    "window_trainer.train()"
   ]
  },
  {
   "cell_type": "code",
   "execution_count": null,
   "metadata": {},
   "outputs": [],
   "source": [
    "import torch\n",
    "window_model.cpu()\n",
    "torch.cuda.empty_cache()"
   ]
  },
  {
   "cell_type": "markdown",
   "metadata": {},
   "source": [
    "# 2. GPT2 (comparision)"
   ]
  },
  {
   "cell_type": "code",
   "execution_count": null,
   "metadata": {},
   "outputs": [],
   "source": [
    "from transformers import GPT2Config, GPT2LMHeadModel\n",
    "config = GPT2Config(n_embd = 128, vocab_size=len(tokenizer),\n",
    "                    n_positions = block_size, n_layer = 6, n_head = 4,\n",
    "                    resid_pdrop = .1, embd_pdrop = .1, attn_pdrop = .1,\n",
    "                    use_cache = False \n",
    "                   )\n",
    "gpt_model = GPT2LMHeadModel(config)"
   ]
  },
  {
   "cell_type": "code",
   "execution_count": null,
   "metadata": {},
   "outputs": [
    {
     "data": {
      "text/plain": [
       "'5.6M'"
      ]
     },
     "execution_count": null,
     "metadata": {},
     "output_type": "execute_result"
    }
   ],
   "source": [
    "pytorch_total_params = sum(p.numel() for p in gpt_model.parameters() if p.requires_grad)\n",
    "f'{(pytorch_total_params / 1e6):2.1f}M'"
   ]
  },
  {
   "cell_type": "code",
   "execution_count": null,
   "metadata": {},
   "outputs": [],
   "source": [
    "gpt_trainer = Trainer(\n",
    "    model=gpt_model,\n",
    "    args=training_args,\n",
    "    data_collator=default_data_collator,\n",
    "    train_dataset=lm_dataset[\"train\"],\n",
    "    eval_dataset=lm_dataset[\"validation\"]\n",
    ")\n",
    "\n",
    "gpt_trainer.train()"
   ]
  },
  {
   "cell_type": "markdown",
   "metadata": {},
   "source": [
    "# Results"
   ]
  },
  {
   "cell_type": "code",
   "execution_count": null,
   "metadata": {},
   "outputs": [],
   "source": [
    "def format_num_param(model):\n",
    "    total_params = sum(p.numel() for p in model.parameters() if p.requires_grad)\n",
    "    return f'{(total_params / 1e6):2.1f}M'"
   ]
  },
  {
   "cell_type": "code",
   "execution_count": null,
   "metadata": {},
   "outputs": [],
   "source": [
    "import pandas as pd\n",
    "import numpy as np\n",
    "import matplotlib.pyplot as plt\n",
    "plt.rcParams['figure.figsize'] = [15, 8]\n",
    "\n",
    "loss1 = pd.DataFrame(window_trainer.state.log_history[1::2]).set_index(\"epoch\")[\"eval_loss\"]\n",
    "loss2 = pd.DataFrame(gpt_trainer.state.log_history[1::2]).set_index(\"epoch\")[\"eval_loss\"]\n",
    "results = pd.DataFrame({f\"LEAP Transformer ({format_num_param(window_model)} parameters)\": loss1,\n",
    "                        f\"GPT2 ({format_num_param(gpt_model)} parameters)\": loss2\n",
    "                       })\n",
    "results.to_csv(\"preliminary_results.csv\")\n",
    "results"
   ]
  },
  {
   "cell_type": "code",
   "execution_count": null,
   "metadata": {},
   "outputs": [
    {
     "data": {
      "text/html": [
       "<div>\n",
       "<style scoped>\n",
       "    .dataframe tbody tr th:only-of-type {\n",
       "        vertical-align: middle;\n",
       "    }\n",
       "\n",
       "    .dataframe tbody tr th {\n",
       "        vertical-align: top;\n",
       "    }\n",
       "\n",
       "    .dataframe thead th {\n",
       "        text-align: right;\n",
       "    }\n",
       "</style>\n",
       "<table border=\"1\" class=\"dataframe\">\n",
       "  <thead>\n",
       "    <tr style=\"text-align: right;\">\n",
       "      <th></th>\n",
       "      <th>LEAP Transformer (5.6M parameters)</th>\n",
       "      <th>GPT2 (5.6M parameters)</th>\n",
       "    </tr>\n",
       "    <tr>\n",
       "      <th>epoch</th>\n",
       "      <th></th>\n",
       "      <th></th>\n",
       "    </tr>\n",
       "  </thead>\n",
       "  <tbody>\n",
       "    <tr>\n",
       "      <th>1.0</th>\n",
       "      <td>148.721607</td>\n",
       "      <td>169.135732</td>\n",
       "    </tr>\n",
       "    <tr>\n",
       "      <th>2.0</th>\n",
       "      <td>102.186842</td>\n",
       "      <td>132.422969</td>\n",
       "    </tr>\n",
       "    <tr>\n",
       "      <th>3.0</th>\n",
       "      <td>82.935497</td>\n",
       "      <td>116.280933</td>\n",
       "    </tr>\n",
       "    <tr>\n",
       "      <th>4.0</th>\n",
       "      <td>73.354673</td>\n",
       "      <td>106.089926</td>\n",
       "    </tr>\n",
       "    <tr>\n",
       "      <th>5.0</th>\n",
       "      <td>66.222220</td>\n",
       "      <td>98.141006</td>\n",
       "    </tr>\n",
       "    <tr>\n",
       "      <th>6.0</th>\n",
       "      <td>61.649064</td>\n",
       "      <td>91.344314</td>\n",
       "    </tr>\n",
       "    <tr>\n",
       "      <th>7.0</th>\n",
       "      <td>58.050186</td>\n",
       "      <td>86.846967</td>\n",
       "    </tr>\n",
       "    <tr>\n",
       "      <th>8.0</th>\n",
       "      <td>56.361078</td>\n",
       "      <td>83.022585</td>\n",
       "    </tr>\n",
       "    <tr>\n",
       "      <th>9.0</th>\n",
       "      <td>54.464211</td>\n",
       "      <td>80.019537</td>\n",
       "    </tr>\n",
       "    <tr>\n",
       "      <th>10.0</th>\n",
       "      <td>52.964046</td>\n",
       "      <td>77.495526</td>\n",
       "    </tr>\n",
       "    <tr>\n",
       "      <th>11.0</th>\n",
       "      <td>52.070513</td>\n",
       "      <td>75.484937</td>\n",
       "    </tr>\n",
       "    <tr>\n",
       "      <th>12.0</th>\n",
       "      <td>51.426144</td>\n",
       "      <td>73.571648</td>\n",
       "    </tr>\n",
       "    <tr>\n",
       "      <th>13.0</th>\n",
       "      <td>50.834622</td>\n",
       "      <td>71.866986</td>\n",
       "    </tr>\n",
       "    <tr>\n",
       "      <th>14.0</th>\n",
       "      <td>49.960036</td>\n",
       "      <td>70.702237</td>\n",
       "    </tr>\n",
       "    <tr>\n",
       "      <th>15.0</th>\n",
       "      <td>49.744584</td>\n",
       "      <td>69.378353</td>\n",
       "    </tr>\n",
       "    <tr>\n",
       "      <th>16.0</th>\n",
       "      <td>49.628622</td>\n",
       "      <td>68.865368</td>\n",
       "    </tr>\n",
       "    <tr>\n",
       "      <th>17.0</th>\n",
       "      <td>49.132337</td>\n",
       "      <td>67.996530</td>\n",
       "    </tr>\n",
       "    <tr>\n",
       "      <th>18.0</th>\n",
       "      <td>48.908758</td>\n",
       "      <td>67.122712</td>\n",
       "    </tr>\n",
       "    <tr>\n",
       "      <th>19.0</th>\n",
       "      <td>48.683665</td>\n",
       "      <td>66.239621</td>\n",
       "    </tr>\n",
       "    <tr>\n",
       "      <th>20.0</th>\n",
       "      <td>48.580135</td>\n",
       "      <td>66.088877</td>\n",
       "    </tr>\n",
       "    <tr>\n",
       "      <th>21.0</th>\n",
       "      <td>48.624319</td>\n",
       "      <td>65.648185</td>\n",
       "    </tr>\n",
       "    <tr>\n",
       "      <th>22.0</th>\n",
       "      <td>48.387636</td>\n",
       "      <td>65.274581</td>\n",
       "    </tr>\n",
       "    <tr>\n",
       "      <th>23.0</th>\n",
       "      <td>48.431264</td>\n",
       "      <td>64.947931</td>\n",
       "    </tr>\n",
       "    <tr>\n",
       "      <th>24.0</th>\n",
       "      <td>48.268749</td>\n",
       "      <td>64.681028</td>\n",
       "    </tr>\n",
       "    <tr>\n",
       "      <th>25.0</th>\n",
       "      <td>48.238319</td>\n",
       "      <td>64.615275</td>\n",
       "    </tr>\n",
       "  </tbody>\n",
       "</table>\n",
       "</div>"
      ],
      "text/plain": [
       "       LEAP Transformer (5.6M parameters)  GPT2 (5.6M parameters)\n",
       "epoch                                                            \n",
       "1.0                            148.721607              169.135732\n",
       "2.0                            102.186842              132.422969\n",
       "3.0                             82.935497              116.280933\n",
       "4.0                             73.354673              106.089926\n",
       "5.0                             66.222220               98.141006\n",
       "6.0                             61.649064               91.344314\n",
       "7.0                             58.050186               86.846967\n",
       "8.0                             56.361078               83.022585\n",
       "9.0                             54.464211               80.019537\n",
       "10.0                            52.964046               77.495526\n",
       "11.0                            52.070513               75.484937\n",
       "12.0                            51.426144               73.571648\n",
       "13.0                            50.834622               71.866986\n",
       "14.0                            49.960036               70.702237\n",
       "15.0                            49.744584               69.378353\n",
       "16.0                            49.628622               68.865368\n",
       "17.0                            49.132337               67.996530\n",
       "18.0                            48.908758               67.122712\n",
       "19.0                            48.683665               66.239621\n",
       "20.0                            48.580135               66.088877\n",
       "21.0                            48.624319               65.648185\n",
       "22.0                            48.387636               65.274581\n",
       "23.0                            48.431264               64.947931\n",
       "24.0                            48.268749               64.681028\n",
       "25.0                            48.238319               64.615275"
      ]
     },
     "execution_count": null,
     "metadata": {},
     "output_type": "execute_result"
    }
   ],
   "source": [
    "ppl_results = np.exp(results)\n",
    "ppl_results"
   ]
  },
  {
   "cell_type": "code",
   "execution_count": null,
   "metadata": {},
   "outputs": [
    {
     "data": {
      "image/png": "[encoded data removed]",
      "text/plain": [
       "<Figure size 1080x576 with 1 Axes>"
      ]
     },
     "metadata": {
      "needs_background": "light"
     },
     "output_type": "display_data"
    }
   ],
   "source": [
    "ppl_results.plot()\n",
    "\n",
    "plt.ylabel(\"Validation Perplexity\")\n",
    "plt.axhline(y=ppl_results[f\"LEAP Transformer ({format_num_param(window_model)} parameters)\"].min(),\n",
    "            linestyle='--', label = \"Minimum LEAP Transformer Validation Perplexity\", color = 'C0')\n",
    "plt.legend()\n",
    "plt.savefig('preliminary_results.png', dpi = 100)\n",
    "plt.show()"
   ]
  },
  {
   "cell_type": "code",
   "execution_count": null,
   "metadata": {},
   "outputs": [],
   "source": []
  },
  {
   "cell_type": "code",
   "execution_count": null,
   "metadata": {},
   "outputs": [],
   "source": []
  },
  {
   "cell_type": "code",
   "execution_count": null,
   "metadata": {},
   "outputs": [],
   "source": []
  },
  {
   "cell_type": "markdown",
   "metadata": {},
   "source": [
    "# Appendix"
   ]
  },
  {
   "cell_type": "markdown",
   "metadata": {},
   "source": [
    "## Test set evaluation (DO NOT TUNE ON THIS, SHOULD ONLY BE RUN FOR BENCHMARKING PURPOSES)"
   ]
  },
  {
   "cell_type": "code",
   "execution_count": null,
   "metadata": {},
   "outputs": [
    {
     "name": "stderr",
     "output_type": "stream",
     "text": [
      "***** Running Evaluation *****\n",
      "  Num examples = 151\n",
      "  Batch size = 2\n"
     ]
    },
    {
     "data": {
      "text/html": [
       "\n",
       "    <div>\n",
       "      \n",
       "      <progress value='76' max='76' style='width:300px; height:20px; vertical-align: middle;'></progress>\n",
       "      [76/76 00:02]\n",
       "    </div>\n",
       "    "
      ],
      "text/plain": [
       "<IPython.core.display.HTML object>"
      ]
     },
     "metadata": {},
     "output_type": "display_data"
    },
    {
     "data": {
      "text/plain": [
       "45.55328336575476"
      ]
     },
     "execution_count": null,
     "metadata": {},
     "output_type": "execute_result"
    }
   ],
   "source": [
    "window_model.cuda()\n",
    "result = window_trainer.evaluate(lm_dataset[\"test\"])\n",
    "torch.e**result[\"eval_loss\"]"
   ]
  },
  {
   "cell_type": "code",
   "execution_count": null,
   "metadata": {},
   "outputs": [
    {
     "name": "stderr",
     "output_type": "stream",
     "text": [
      "***** Running Evaluation *****\n",
      "  Num examples = 151\n",
      "  Batch size = 2\n"
     ]
    },
    {
     "data": {
      "text/html": [
       "\n",
       "    <div>\n",
       "      \n",
       "      <progress value='76' max='76' style='width:300px; height:20px; vertical-align: middle;'></progress>\n",
       "      [76/76 00:04]\n",
       "    </div>\n",
       "    "
      ],
      "text/plain": [
       "<IPython.core.display.HTML object>"
      ]
     },
     "metadata": {},
     "output_type": "display_data"
    },
    {
     "data": {
      "text/plain": [
       "59.66087543042275"
      ]
     },
     "execution_count": null,
     "metadata": {},
     "output_type": "execute_result"
    }
   ],
   "source": [
    "gpt_model.cuda()\n",
    "result = gpt_trainer.evaluate(lm_dataset[\"test\"])\n",
    "torch.e**result[\"eval_loss\"]"
   ]
  },
  {
   "cell_type": "markdown",
   "metadata": {},
   "source": [
    "## Test code to try some text generation"
   ]
  },
  {
   "cell_type": "code",
   "execution_count": null,
   "metadata": {},
   "outputs": [],
   "source": [
    "# test_number = 94\n",
    "\n",
    "# input_ids = lm_dataset[\"test\"][test_number][\"input_ids\"].reshape(1, -1).cpu()\n",
    "# attention_mask = lm_dataset[\"test\"][test_number][\"attention_mask\"].reshape(1, -1).cpu()\n",
    "# labels = lm_dataset[\"test\"][test_number][\"labels\"].reshape(1, -1).cpu()"
   ]
  },
  {
   "cell_type": "code",
   "execution_count": null,
   "metadata": {},
   "outputs": [],
   "source": [
    "# test_model = window_model\n",
    "\n",
    "# test_model = test_model.cpu().eval()\n",
    "# out = test_model(input_ids=input_ids, labels = labels, attention_mask = attention_mask)\n",
    "# logits = out.logits\n",
    "# loss = out.loss\n",
    "# loss"
   ]
  },
  {
   "cell_type": "code",
   "execution_count": null,
   "metadata": {},
   "outputs": [],
   "source": [
    "# tokenizer.batch_decode(input_ids[:,:50])"
   ]
  },
  {
   "cell_type": "code",
   "execution_count": null,
   "metadata": {},
   "outputs": [],
   "source": [
    "# generated_tokens = test_model.generate(input_ids[:,:50], attention_mask = attention_mask, do_sample=True, max_length=256, temperature = .7)\n",
    "# tokenizer.batch_decode(generated_tokens)"
   ]
  },
  {
   "cell_type": "markdown",
   "metadata": {},
   "source": [
    "## Reuse GPT2 results from fastformerLM testing"
   ]
  },
  {
   "cell_type": "code",
   "execution_count": null,
   "metadata": {},
   "outputs": [],
   "source": [
    "# results = pd.read_csv(\"src/leap/fastformerLM/preliminary_results.csv\")\n",
    "# results = pd.DataFrame(results.set_index(\"epoch\")[\"GPT2 (5.6M parameters)\"])\n",
    "# results = results.join(loss1.rename(f\"LEAP Transformer ({format_num_param(window_model)} parameters)\"))\n",
    "# results = results[[results.columns[1], results.columns[0]]]\n",
    "# results"
   ]
  },
  {
   "cell_type": "code",
   "execution_count": null,
   "metadata": {},
   "outputs": [],
   "source": []
  }
 ],
 "metadata": {
  "kernelspec": {
   "display_name": "Python 3",
   "language": "python",
   "name": "python3"
  },
  "language_info": {
   "codemirror_mode": {
    "name": "ipython",
    "version": 3
   },
   "file_extension": ".py",
   "mimetype": "text/x-python",
   "name": "python",
   "nbconvert_exporter": "python",
   "pygments_lexer": "ipython3",
   "version": "3.8.5"
  }
 },
 "nbformat": 4,
 "nbformat_minor": 4
}
