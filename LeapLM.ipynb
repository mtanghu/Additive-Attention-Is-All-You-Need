{
 "cells": [
  {
   "cell_type": "code",
   "execution_count": null,
   "metadata": {},
   "outputs": [],
   "source": [
    "from leap import LeapForCausalLM, LeapConfig\n",
    "from transformers import TrainingArguments, Trainer, default_data_collator\n",
    "from datasets import load_dataset\n",
    "\n",
    "from itertools import chain"
   ]
  },
  {
   "cell_type": "code",
   "execution_count": null,
   "metadata": {},
   "outputs": [],
   "source": [
    "# t5 tokenzier, warning is nothing to worry about since we will group the texts\n",
    "from transformers import AutoTokenizer\n",
    "tokenizer = AutoTokenizer.from_pretrained(\"t5-small\")"
   ]
  },
  {
   "cell_type": "code",
   "execution_count": null,
   "metadata": {},
   "outputs": [
    {
     "name": "stderr",
     "output_type": "stream",
     "text": [
      "Reusing dataset wikitext (C:\\Users\\micha\\.cache\\huggingface\\datasets\\wikitext\\wikitext-2-v1\\1.0.0\\a241db52902eaf2c6aa732210bead40c090019a499ceb13bcbfa3f8ab646a126)\n"
     ]
    },
    {
     "data": {
      "application/vnd.jupyter.widget-view+json": {
       "model_id": "50622aff8f0847d58edea095d1619f6b",
       "version_major": 2,
       "version_minor": 0
      },
      "text/plain": [
       "  0%|          | 0/3 [00:00<?, ?it/s]"
      ]
     },
     "metadata": {},
     "output_type": "display_data"
    },
    {
     "name": "stderr",
     "output_type": "stream",
     "text": [
      "Loading cached processed dataset at C:\\Users\\micha\\.cache\\huggingface\\datasets\\wikitext\\wikitext-2-v1\\1.0.0\\a241db52902eaf2c6aa732210bead40c090019a499ceb13bcbfa3f8ab646a126\\cache-f37a0e1d2b8653e1.arrow\n",
      "Loading cached processed dataset at C:\\Users\\micha\\.cache\\huggingface\\datasets\\wikitext\\wikitext-2-v1\\1.0.0\\a241db52902eaf2c6aa732210bead40c090019a499ceb13bcbfa3f8ab646a126\\cache-11f852fec431ca73.arrow\n",
      "Loading cached processed dataset at C:\\Users\\micha\\.cache\\huggingface\\datasets\\wikitext\\wikitext-2-v1\\1.0.0\\a241db52902eaf2c6aa732210bead40c090019a499ceb13bcbfa3f8ab646a126\\cache-f34b03b1d56e9cb0.arrow\n",
      "Loading cached processed dataset at C:\\Users\\micha\\.cache\\huggingface\\datasets\\wikitext\\wikitext-2-v1\\1.0.0\\a241db52902eaf2c6aa732210bead40c090019a499ceb13bcbfa3f8ab646a126\\cache-75498eacd22f25cc.arrow\n",
      "Loading cached processed dataset at C:\\Users\\micha\\.cache\\huggingface\\datasets\\wikitext\\wikitext-2-v1\\1.0.0\\a241db52902eaf2c6aa732210bead40c090019a499ceb13bcbfa3f8ab646a126\\cache-0d438b212cccd491.arrow\n",
      "Loading cached processed dataset at C:\\Users\\micha\\.cache\\huggingface\\datasets\\wikitext\\wikitext-2-v1\\1.0.0\\a241db52902eaf2c6aa732210bead40c090019a499ceb13bcbfa3f8ab646a126\\cache-1ed91ef60323d639.arrow\n"
     ]
    }
   ],
   "source": [
    "raw_datasets = load_dataset(\"wikitext\", \"wikitext-2-v1\")\n",
    "column_names = raw_datasets[\"train\"].column_names\n",
    "text_column_name = \"text\" if \"text\" in column_names else column_names[0]\n",
    "block_size = 2048\n",
    "\n",
    "def tokenize_function(examples):\n",
    "    output = tokenizer(examples[text_column_name])\n",
    "    return output\n",
    "\n",
    "def group_texts(examples):\n",
    "    # Concatenate all texts.\n",
    "    concatenated_examples = {k: list(chain(*examples[k])) for k in examples.keys()}\n",
    "    total_length = len(concatenated_examples[list(examples.keys())[0]])\n",
    "    # We drop the small remainder, we could add padding if the model supported it instead of this drop, you can\n",
    "    # customize this part to your needs.\n",
    "    if total_length >= block_size:\n",
    "        total_length = (total_length // block_size) * block_size\n",
    "    # Split by chunks of max_len.\n",
    "    result = {\n",
    "        k: [t[i : i + block_size] for i in range(0, total_length, block_size)]\n",
    "        for k, t in concatenated_examples.items()\n",
    "    }\n",
    "    result[\"labels\"] = result[\"input_ids\"].copy()\n",
    "    return result\n",
    "\n",
    "tokenized_datasets = raw_datasets.map(\n",
    "            tokenize_function,\n",
    "            batched=True,\n",
    "            num_proc=1,\n",
    "            remove_columns=column_names,\n",
    "        )\n",
    "\n",
    "lm_dataset = tokenized_datasets.map(\n",
    "    group_texts,\n",
    "    batched=True,\n",
    "    num_proc=1,\n",
    "    desc=f\"Grouping texts in chunks of {block_size}\",\n",
    ")\n",
    "\n",
    "lm_dataset.set_format('pt')"
   ]
  },
  {
   "cell_type": "code",
   "execution_count": null,
   "metadata": {},
   "outputs": [
    {
     "name": "stderr",
     "output_type": "stream",
     "text": [
      "PyTorch: setting up devices\n"
     ]
    }
   ],
   "source": [
    "# hyperparameters\n",
    "training_args = TrainingArguments(\n",
    "    output_dir = \"./results\",\n",
    "    logging_strategy = \"epoch\",\n",
    "    evaluation_strategy = \"epoch\",\n",
    "    save_strategy = \"epoch\",\n",
    "    report_to = \"none\",\n",
    "    learning_rate = 5e-4, \n",
    "    num_train_epochs = 25,\n",
    "    per_device_train_batch_size = 2,\n",
    "    per_device_eval_batch_size = 2,\n",
    "    load_best_model_at_end = True,\n",
    "    metric_for_best_model = \"eval_loss\",\n",
    "    max_grad_norm = 1,\n",
    "    fp16 = True\n",
    ")\n",
    "# learning rates tried 1e-4, 5e-4, 1e-3\n",
    "# 5e-4 yielded best results on BOTH windowed additive attention and gpt in terms of validation loss\n",
    "\n",
    "config = LeapConfig(\n",
    "    hidden_size = 128,\n",
    "    vocab_size = len(tokenizer),\n",
    "    n_positions = block_size,\n",
    "    n_heads = 4,\n",
    "    n_layer = 6,\n",
    "    use_local_att = False,\n",
    "    window_sizes = None,\n",
    "    hidden_dropout_prob = .1,\n",
    "    rescale_value = 8\n",
    ")"
   ]
  },
  {
   "cell_type": "markdown",
   "metadata": {},
   "source": [
    "# 1. LEAP Transformer (with windowing)"
   ]
  },
  {
   "cell_type": "code",
   "execution_count": null,
   "metadata": {},
   "outputs": [],
   "source": [
    "config = LeapConfig(\n",
    "    hidden_size = 128,\n",
    "    vocab_size = len(tokenizer),\n",
    "    n_positions = block_size,\n",
    "    n_heads = 4,\n",
    "    n_layer = 6,\n",
    "    use_local_att = True,\n",
    "    window_sizes = None, # will be set automatically\n",
    "    hidden_dropout_prob = .1\n",
    ")\n",
    "window_model = LeapForCausalLM(config)"
   ]
  },
  {
   "cell_type": "code",
   "execution_count": null,
   "metadata": {},
   "outputs": [
    {
     "data": {
      "text/plain": [
       "'5.6M'"
      ]
     },
     "execution_count": null,
     "metadata": {},
     "output_type": "execute_result"
    }
   ],
   "source": [
    "pytorch_total_params = sum(p.numel() for p in window_model.parameters() if p.requires_grad)\n",
    "f'{(pytorch_total_params / 1e6):2.1f}M'"
   ]
  },
  {
   "cell_type": "code",
   "execution_count": null,
   "metadata": {},
   "outputs": [],
   "source": [
    "window_trainer = Trainer(\n",
    "    model=window_model,\n",
    "    args=training_args,\n",
    "    data_collator=default_data_collator,\n",
    "    train_dataset=lm_dataset[\"train\"],\n",
    "    eval_dataset=lm_dataset[\"validation\"]\n",
    ")\n",
    "\n",
    "window_trainer.train()"
   ]
  },
  {
   "cell_type": "code",
   "execution_count": null,
   "metadata": {},
   "outputs": [],
   "source": [
    "import torch\n",
    "window_model.cpu()\n",
    "torch.cuda.empty_cache()"
   ]
  },
  {
   "cell_type": "markdown",
   "metadata": {},
   "source": [
    "# 2. GPT2 (comparision)"
   ]
  },
  {
   "cell_type": "code",
   "execution_count": null,
   "metadata": {},
   "outputs": [],
   "source": [
    "from transformers import GPT2Config, GPT2LMHeadModel\n",
    "config = GPT2Config(n_embd = 128, vocab_size=len(tokenizer),\n",
    "                    n_positions = block_size, n_layer = 6, n_head = 4,\n",
    "                    resid_pdrop = .1, embd_pdrop = .1, attn_pdrop = .1,\n",
    "                    use_cache = False \n",
    "                   )\n",
    "gpt_model = GPT2LMHeadModel(config)"
   ]
  },
  {
   "cell_type": "code",
   "execution_count": null,
   "metadata": {},
   "outputs": [
    {
     "data": {
      "text/plain": [
       "'5.6M'"
      ]
     },
     "execution_count": null,
     "metadata": {},
     "output_type": "execute_result"
    }
   ],
   "source": [
    "pytorch_total_params = sum(p.numel() for p in gpt_model.parameters() if p.requires_grad)\n",
    "f'{(pytorch_total_params / 1e6):2.1f}M'"
   ]
  },
  {
   "cell_type": "code",
   "execution_count": null,
   "metadata": {},
   "outputs": [],
   "source": [
    "gpt_trainer = Trainer(\n",
    "    model=gpt_model,\n",
    "    args=training_args,\n",
    "    data_collator=default_data_collator,\n",
    "    train_dataset=lm_dataset[\"train\"],\n",
    "    eval_dataset=lm_dataset[\"validation\"]\n",
    ")\n",
    "\n",
    "gpt_trainer.train()"
   ]
  },
  {
   "cell_type": "markdown",
   "metadata": {},
   "source": [
    "# Results"
   ]
  },
  {
   "cell_type": "code",
   "execution_count": null,
   "metadata": {},
   "outputs": [],
   "source": [
    "def format_num_param(model):\n",
    "    total_params = sum(p.numel() for p in model.parameters() if p.requires_grad)\n",
    "    return f'{(total_params / 1e6):2.1f}M'"
   ]
  },
  {
   "cell_type": "code",
   "execution_count": null,
   "metadata": {},
   "outputs": [
    {
     "data": {
      "text/html": [
       "<div>\n",
       "<style scoped>\n",
       "    .dataframe tbody tr th:only-of-type {\n",
       "        vertical-align: middle;\n",
       "    }\n",
       "\n",
       "    .dataframe tbody tr th {\n",
       "        vertical-align: top;\n",
       "    }\n",
       "\n",
       "    .dataframe thead th {\n",
       "        text-align: right;\n",
       "    }\n",
       "</style>\n",
       "<table border=\"1\" class=\"dataframe\">\n",
       "  <thead>\n",
       "    <tr style=\"text-align: right;\">\n",
       "      <th></th>\n",
       "      <th>LEAP Transformer (5.6M parameters)</th>\n",
       "      <th>GPT2 (5.6M parameters)</th>\n",
       "    </tr>\n",
       "    <tr>\n",
       "      <th>epoch</th>\n",
       "      <th></th>\n",
       "      <th></th>\n",
       "    </tr>\n",
       "  </thead>\n",
       "  <tbody>\n",
       "    <tr>\n",
       "      <th>1.0</th>\n",
       "      <td>5.066770</td>\n",
       "      <td>5.130702</td>\n",
       "    </tr>\n",
       "    <tr>\n",
       "      <th>2.0</th>\n",
       "      <td>4.667731</td>\n",
       "      <td>4.886001</td>\n",
       "    </tr>\n",
       "    <tr>\n",
       "      <th>3.0</th>\n",
       "      <td>4.459588</td>\n",
       "      <td>4.756009</td>\n",
       "    </tr>\n",
       "    <tr>\n",
       "      <th>4.0</th>\n",
       "      <td>4.320714</td>\n",
       "      <td>4.664287</td>\n",
       "    </tr>\n",
       "    <tr>\n",
       "      <th>5.0</th>\n",
       "      <td>4.212740</td>\n",
       "      <td>4.586405</td>\n",
       "    </tr>\n",
       "    <tr>\n",
       "      <th>6.0</th>\n",
       "      <td>4.133491</td>\n",
       "      <td>4.514636</td>\n",
       "    </tr>\n",
       "    <tr>\n",
       "      <th>7.0</th>\n",
       "      <td>4.075902</td>\n",
       "      <td>4.464148</td>\n",
       "    </tr>\n",
       "    <tr>\n",
       "      <th>8.0</th>\n",
       "      <td>4.035834</td>\n",
       "      <td>4.419113</td>\n",
       "    </tr>\n",
       "    <tr>\n",
       "      <th>9.0</th>\n",
       "      <td>3.996954</td>\n",
       "      <td>4.382271</td>\n",
       "    </tr>\n",
       "    <tr>\n",
       "      <th>10.0</th>\n",
       "      <td>3.969945</td>\n",
       "      <td>4.350220</td>\n",
       "    </tr>\n",
       "    <tr>\n",
       "      <th>11.0</th>\n",
       "      <td>3.956140</td>\n",
       "      <td>4.323933</td>\n",
       "    </tr>\n",
       "    <tr>\n",
       "      <th>12.0</th>\n",
       "      <td>3.944123</td>\n",
       "      <td>4.298260</td>\n",
       "    </tr>\n",
       "    <tr>\n",
       "      <th>13.0</th>\n",
       "      <td>3.926430</td>\n",
       "      <td>4.274817</td>\n",
       "    </tr>\n",
       "    <tr>\n",
       "      <th>14.0</th>\n",
       "      <td>3.914343</td>\n",
       "      <td>4.258477</td>\n",
       "    </tr>\n",
       "    <tr>\n",
       "      <th>15.0</th>\n",
       "      <td>3.903730</td>\n",
       "      <td>4.239575</td>\n",
       "    </tr>\n",
       "    <tr>\n",
       "      <th>16.0</th>\n",
       "      <td>3.901376</td>\n",
       "      <td>4.232153</td>\n",
       "    </tr>\n",
       "    <tr>\n",
       "      <th>17.0</th>\n",
       "      <td>3.891240</td>\n",
       "      <td>4.219457</td>\n",
       "    </tr>\n",
       "    <tr>\n",
       "      <th>18.0</th>\n",
       "      <td>3.892125</td>\n",
       "      <td>4.206522</td>\n",
       "    </tr>\n",
       "    <tr>\n",
       "      <th>19.0</th>\n",
       "      <td>3.884827</td>\n",
       "      <td>4.193279</td>\n",
       "    </tr>\n",
       "    <tr>\n",
       "      <th>20.0</th>\n",
       "      <td>3.881401</td>\n",
       "      <td>4.191000</td>\n",
       "    </tr>\n",
       "    <tr>\n",
       "      <th>21.0</th>\n",
       "      <td>3.880777</td>\n",
       "      <td>4.184310</td>\n",
       "    </tr>\n",
       "    <tr>\n",
       "      <th>22.0</th>\n",
       "      <td>3.875153</td>\n",
       "      <td>4.178603</td>\n",
       "    </tr>\n",
       "    <tr>\n",
       "      <th>23.0</th>\n",
       "      <td>3.877144</td>\n",
       "      <td>4.173586</td>\n",
       "    </tr>\n",
       "    <tr>\n",
       "      <th>24.0</th>\n",
       "      <td>3.873204</td>\n",
       "      <td>4.169468</td>\n",
       "    </tr>\n",
       "    <tr>\n",
       "      <th>25.0</th>\n",
       "      <td>3.872766</td>\n",
       "      <td>4.168451</td>\n",
       "    </tr>\n",
       "  </tbody>\n",
       "</table>\n",
       "</div>"
      ],
      "text/plain": [
       "       LEAP Transformer (5.6M parameters)  GPT2 (5.6M parameters)\n",
       "epoch                                                            \n",
       "1.0                              5.066770                5.130702\n",
       "2.0                              4.667731                4.886001\n",
       "3.0                              4.459588                4.756009\n",
       "4.0                              4.320714                4.664287\n",
       "5.0                              4.212740                4.586405\n",
       "6.0                              4.133491                4.514636\n",
       "7.0                              4.075902                4.464148\n",
       "8.0                              4.035834                4.419113\n",
       "9.0                              3.996954                4.382271\n",
       "10.0                             3.969945                4.350220\n",
       "11.0                             3.956140                4.323933\n",
       "12.0                             3.944123                4.298260\n",
       "13.0                             3.926430                4.274817\n",
       "14.0                             3.914343                4.258477\n",
       "15.0                             3.903730                4.239575\n",
       "16.0                             3.901376                4.232153\n",
       "17.0                             3.891240                4.219457\n",
       "18.0                             3.892125                4.206522\n",
       "19.0                             3.884827                4.193279\n",
       "20.0                             3.881401                4.191000\n",
       "21.0                             3.880777                4.184310\n",
       "22.0                             3.875153                4.178603\n",
       "23.0                             3.877144                4.173586\n",
       "24.0                             3.873204                4.169468\n",
       "25.0                             3.872766                4.168451"
      ]
     },
     "execution_count": null,
     "metadata": {},
     "output_type": "execute_result"
    }
   ],
   "source": [
    "import pandas as pd\n",
    "import numpy as np\n",
    "import matplotlib.pyplot as plt\n",
    "plt.rcParams['figure.figsize'] = [15, 8]\n",
    "\n",
    "loss1 = pd.DataFrame(window_trainer.state.log_history[1::2]).set_index(\"epoch\")[\"eval_loss\"]\n",
    "loss2 = pd.DataFrame(gpt_trainer.state.log_history[1::2]).set_index(\"epoch\")[\"eval_loss\"]\n",
    "results = pd.DataFrame({f\"LEAP Transformer ({format_num_param(window_model)} parameters)\": loss1,\n",
    "                        f\"GPT2 ({format_num_param(gpt_model)} parameters)\": loss2\n",
    "                       })\n",
    "results.to_csv(\"preliminary_results.csv\")\n",
    "results"
   ]
  },
  {
   "cell_type": "code",
   "execution_count": null,
   "metadata": {},
   "outputs": [
    {
     "data": {
      "text/html": [
       "<div>\n",
       "<style scoped>\n",
       "    .dataframe tbody tr th:only-of-type {\n",
       "        vertical-align: middle;\n",
       "    }\n",
       "\n",
       "    .dataframe tbody tr th {\n",
       "        vertical-align: top;\n",
       "    }\n",
       "\n",
       "    .dataframe thead th {\n",
       "        text-align: right;\n",
       "    }\n",
       "</style>\n",
       "<table border=\"1\" class=\"dataframe\">\n",
       "  <thead>\n",
       "    <tr style=\"text-align: right;\">\n",
       "      <th></th>\n",
       "      <th>LEAP Transformer (5.6M parameters)</th>\n",
       "      <th>GPT2 (5.6M parameters)</th>\n",
       "    </tr>\n",
       "    <tr>\n",
       "      <th>epoch</th>\n",
       "      <th></th>\n",
       "      <th></th>\n",
       "    </tr>\n",
       "  </thead>\n",
       "  <tbody>\n",
       "    <tr>\n",
       "      <th>1.0</th>\n",
       "      <td>158.660960</td>\n",
       "      <td>169.135732</td>\n",
       "    </tr>\n",
       "    <tr>\n",
       "      <th>2.0</th>\n",
       "      <td>106.455950</td>\n",
       "      <td>132.422969</td>\n",
       "    </tr>\n",
       "    <tr>\n",
       "      <th>3.0</th>\n",
       "      <td>86.451888</td>\n",
       "      <td>116.280933</td>\n",
       "    </tr>\n",
       "    <tr>\n",
       "      <th>4.0</th>\n",
       "      <td>75.242332</td>\n",
       "      <td>106.089926</td>\n",
       "    </tr>\n",
       "    <tr>\n",
       "      <th>5.0</th>\n",
       "      <td>67.541378</td>\n",
       "      <td>98.141006</td>\n",
       "    </tr>\n",
       "    <tr>\n",
       "      <th>6.0</th>\n",
       "      <td>62.395338</td>\n",
       "      <td>91.344314</td>\n",
       "    </tr>\n",
       "    <tr>\n",
       "      <th>7.0</th>\n",
       "      <td>58.903587</td>\n",
       "      <td>86.846967</td>\n",
       "    </tr>\n",
       "    <tr>\n",
       "      <th>8.0</th>\n",
       "      <td>56.590087</td>\n",
       "      <td>83.022585</td>\n",
       "    </tr>\n",
       "    <tr>\n",
       "      <th>9.0</th>\n",
       "      <td>54.432082</td>\n",
       "      <td>80.019537</td>\n",
       "    </tr>\n",
       "    <tr>\n",
       "      <th>10.0</th>\n",
       "      <td>52.981602</td>\n",
       "      <td>77.495526</td>\n",
       "    </tr>\n",
       "    <tr>\n",
       "      <th>11.0</th>\n",
       "      <td>52.255246</td>\n",
       "      <td>75.484937</td>\n",
       "    </tr>\n",
       "    <tr>\n",
       "      <th>12.0</th>\n",
       "      <td>51.631052</td>\n",
       "      <td>73.571648</td>\n",
       "    </tr>\n",
       "    <tr>\n",
       "      <th>13.0</th>\n",
       "      <td>50.725587</td>\n",
       "      <td>71.866986</td>\n",
       "    </tr>\n",
       "    <tr>\n",
       "      <th>14.0</th>\n",
       "      <td>50.116116</td>\n",
       "      <td>70.702237</td>\n",
       "    </tr>\n",
       "    <tr>\n",
       "      <th>15.0</th>\n",
       "      <td>49.587060</td>\n",
       "      <td>69.378353</td>\n",
       "    </tr>\n",
       "    <tr>\n",
       "      <th>16.0</th>\n",
       "      <td>49.470474</td>\n",
       "      <td>68.865368</td>\n",
       "    </tr>\n",
       "    <tr>\n",
       "      <th>17.0</th>\n",
       "      <td>48.971568</td>\n",
       "      <td>67.996530</td>\n",
       "    </tr>\n",
       "    <tr>\n",
       "      <th>18.0</th>\n",
       "      <td>49.014927</td>\n",
       "      <td>67.122712</td>\n",
       "    </tr>\n",
       "    <tr>\n",
       "      <th>19.0</th>\n",
       "      <td>48.658507</td>\n",
       "      <td>66.239621</td>\n",
       "    </tr>\n",
       "    <tr>\n",
       "      <th>20.0</th>\n",
       "      <td>48.492120</td>\n",
       "      <td>66.088877</td>\n",
       "    </tr>\n",
       "    <tr>\n",
       "      <th>21.0</th>\n",
       "      <td>48.461838</td>\n",
       "      <td>65.648185</td>\n",
       "    </tr>\n",
       "    <tr>\n",
       "      <th>22.0</th>\n",
       "      <td>48.190085</td>\n",
       "      <td>65.274581</td>\n",
       "    </tr>\n",
       "    <tr>\n",
       "      <th>23.0</th>\n",
       "      <td>48.286106</td>\n",
       "      <td>64.947931</td>\n",
       "    </tr>\n",
       "    <tr>\n",
       "      <th>24.0</th>\n",
       "      <td>48.096262</td>\n",
       "      <td>64.681028</td>\n",
       "    </tr>\n",
       "    <tr>\n",
       "      <th>25.0</th>\n",
       "      <td>48.075191</td>\n",
       "      <td>64.615275</td>\n",
       "    </tr>\n",
       "  </tbody>\n",
       "</table>\n",
       "</div>"
      ],
      "text/plain": [
       "       LEAP Transformer (5.6M parameters)  GPT2 (5.6M parameters)\n",
       "epoch                                                            \n",
       "1.0                            158.660960              169.135732\n",
       "2.0                            106.455950              132.422969\n",
       "3.0                             86.451888              116.280933\n",
       "4.0                             75.242332              106.089926\n",
       "5.0                             67.541378               98.141006\n",
       "6.0                             62.395338               91.344314\n",
       "7.0                             58.903587               86.846967\n",
       "8.0                             56.590087               83.022585\n",
       "9.0                             54.432082               80.019537\n",
       "10.0                            52.981602               77.495526\n",
       "11.0                            52.255246               75.484937\n",
       "12.0                            51.631052               73.571648\n",
       "13.0                            50.725587               71.866986\n",
       "14.0                            50.116116               70.702237\n",
       "15.0                            49.587060               69.378353\n",
       "16.0                            49.470474               68.865368\n",
       "17.0                            48.971568               67.996530\n",
       "18.0                            49.014927               67.122712\n",
       "19.0                            48.658507               66.239621\n",
       "20.0                            48.492120               66.088877\n",
       "21.0                            48.461838               65.648185\n",
       "22.0                            48.190085               65.274581\n",
       "23.0                            48.286106               64.947931\n",
       "24.0                            48.096262               64.681028\n",
       "25.0                            48.075191               64.615275"
      ]
     },
     "execution_count": null,
     "metadata": {},
     "output_type": "execute_result"
    }
   ],
   "source": [
    "ppl_results = np.exp(results)\n",
    "ppl_results"
   ]
  },
  {
   "cell_type": "code",
   "execution_count": null,
   "metadata": {},
   "outputs": [
    {
     "data": {
      "image/png": "[encoded data removed]",
      "text/plain": [
       "<Figure size 1080x576 with 1 Axes>"
      ]
     },
     "metadata": {
      "needs_background": "light"
     },
     "output_type": "display_data"
    }
   ],
   "source": [
    "ppl_results.plot()\n",
    "\n",
    "plt.ylabel(\"Validation Perplexity\")\n",
    "plt.axhline(y=ppl_results[f\"LEAP Transformer ({format_num_param(window_model)} parameters)\"].min(),\n",
    "            linestyle='--', label = \"Minimum LEAP Transformer Validation Perplexity\", color = 'C0')\n",
    "plt.legend()\n",
    "plt.savefig('preliminary_results.png', dpi = 100)\n",
    "plt.show()"
   ]
  },
  {
   "cell_type": "code",
   "execution_count": null,
   "metadata": {},
   "outputs": [],
   "source": []
  },
  {
   "cell_type": "code",
   "execution_count": null,
   "metadata": {},
   "outputs": [],
   "source": []
  },
  {
   "cell_type": "code",
   "execution_count": null,
   "metadata": {},
   "outputs": [],
   "source": []
  },
  {
   "cell_type": "markdown",
   "metadata": {},
   "source": [
    "# Appendix"
   ]
  },
  {
   "cell_type": "markdown",
   "metadata": {},
   "source": [
    "## Test set evaluation (DO NOT TUNE ON THIS, SHOULD ONLY BE RUN FOR BENCHMARKING PURPOSES)"
   ]
  },
  {
   "cell_type": "code",
   "execution_count": null,
   "metadata": {},
   "outputs": [
    {
     "name": "stderr",
     "output_type": "stream",
     "text": [
      "***** Running Evaluation *****\n",
      "  Num examples = 151\n",
      "  Batch size = 2\n"
     ]
    },
    {
     "data": {
      "text/html": [
       "\n",
       "    <div>\n",
       "      \n",
       "      <progress value='76' max='76' style='width:300px; height:20px; vertical-align: middle;'></progress>\n",
       "      [76/76 00:02]\n",
       "    </div>\n",
       "    "
      ],
      "text/plain": [
       "<IPython.core.display.HTML object>"
      ]
     },
     "metadata": {},
     "output_type": "display_data"
    },
    {
     "data": {
      "text/plain": [
       "45.55328336575476"
      ]
     },
     "execution_count": null,
     "metadata": {},
     "output_type": "execute_result"
    }
   ],
   "source": [
    "window_model.cuda()\n",
    "result = window_trainer.evaluate(lm_dataset[\"test\"])\n",
    "torch.e**result[\"eval_loss\"]"
   ]
  },
  {
   "cell_type": "code",
   "execution_count": null,
   "metadata": {},
   "outputs": [
    {
     "name": "stderr",
     "output_type": "stream",
     "text": [
      "***** Running Evaluation *****\n",
      "  Num examples = 151\n",
      "  Batch size = 2\n"
     ]
    },
    {
     "data": {
      "text/html": [
       "\n",
       "    <div>\n",
       "      \n",
       "      <progress value='76' max='76' style='width:300px; height:20px; vertical-align: middle;'></progress>\n",
       "      [76/76 00:04]\n",
       "    </div>\n",
       "    "
      ],
      "text/plain": [
       "<IPython.core.display.HTML object>"
      ]
     },
     "metadata": {},
     "output_type": "display_data"
    },
    {
     "data": {
      "text/plain": [
       "59.66087543042275"
      ]
     },
     "execution_count": null,
     "metadata": {},
     "output_type": "execute_result"
    }
   ],
   "source": [
    "gpt_model.cuda()\n",
    "result = gpt_trainer.evaluate(lm_dataset[\"test\"])\n",
    "torch.e**result[\"eval_loss\"]"
   ]
  },
  {
   "cell_type": "markdown",
   "metadata": {},
   "source": [
    "## Test code to try some text generation"
   ]
  },
  {
   "cell_type": "code",
   "execution_count": null,
   "metadata": {},
   "outputs": [],
   "source": [
    "# test_number = 94\n",
    "\n",
    "# input_ids = lm_dataset[\"test\"][test_number][\"input_ids\"].reshape(1, -1).cpu()\n",
    "# attention_mask = lm_dataset[\"test\"][test_number][\"attention_mask\"].reshape(1, -1).cpu()\n",
    "# labels = lm_dataset[\"test\"][test_number][\"labels\"].reshape(1, -1).cpu()"
   ]
  },
  {
   "cell_type": "code",
   "execution_count": null,
   "metadata": {},
   "outputs": [],
   "source": [
    "# test_model = window_model\n",
    "\n",
    "# test_model = test_model.cpu().eval()\n",
    "# out = test_model(input_ids=input_ids, labels = labels, attention_mask = attention_mask)\n",
    "# logits = out.logits\n",
    "# loss = out.loss\n",
    "# loss"
   ]
  },
  {
   "cell_type": "code",
   "execution_count": null,
   "metadata": {},
   "outputs": [],
   "source": [
    "# tokenizer.batch_decode(input_ids[:,:50])"
   ]
  },
  {
   "cell_type": "code",
   "execution_count": null,
   "metadata": {},
   "outputs": [],
   "source": [
    "# generated_tokens = test_model.generate(input_ids[:,:50], attention_mask = attention_mask, do_sample=True, max_length=256, temperature = .7)\n",
    "# tokenizer.batch_decode(generated_tokens)"
   ]
  },
  {
   "cell_type": "markdown",
   "metadata": {},
   "source": [
    "## Reuse GPT2 results from fastformerLM testing"
   ]
  },
  {
   "cell_type": "code",
   "execution_count": null,
   "metadata": {},
   "outputs": [],
   "source": [
    "# results = pd.read_csv(\"src/leap/fastformerLM/preliminary_results.csv\")\n",
    "# results = pd.DataFrame(results.set_index(\"epoch\")[\"GPT2 (5.6M parameters)\"])\n",
    "# results = results.join(loss1.rename(f\"LEAP Transformer ({format_num_param(window_model)} parameters)\"))\n",
    "# results = results[[results.columns[1], results.columns[0]]]\n",
    "# results"
   ]
  },
  {
   "cell_type": "code",
   "execution_count": null,
   "metadata": {},
   "outputs": [],
   "source": []
  },
  {
   "cell_type": "markdown",
   "metadata": {},
   "source": [
    "# Playing with GPT2 to see if loss spikes can be reproduced"
   ]
  },
  {
   "cell_type": "code",
   "execution_count": null,
   "metadata": {},
   "outputs": [],
   "source": [
    "from transformers import GPT2Config, GPT2LMHeadModel\n",
    "config = GPT2Config(n_embd = 128, vocab_size = len(tokenizer),\n",
    "                    n_positions = block_size, n_layer = 1, n_head = 1,\n",
    "                    resid_pdrop = .1, embd_pdrop = .1, attn_pdrop = .1,\n",
    "                    use_cache = False \n",
    "                   )\n",
    "gpt_model = GPT2LMHeadModel(config)"
   ]
  },
  {
   "cell_type": "code",
   "execution_count": null,
   "metadata": {},
   "outputs": [
    {
     "name": "stdout",
     "output_type": "stream",
     "text": [
      "Help on method _attn in module transformers.models.gpt2.modeling_gpt2:\n",
      "\n",
      "_attn(query, key, value, attention_mask=None, head_mask=None) method of transformers.models.gpt2.modeling_gpt2.GPT2Attention instance\n",
      "\n"
     ]
    }
   ],
   "source": [
    "help(gpt_model.transformer.h[0].attn._attn)"
   ]
  },
  {
   "cell_type": "code",
   "execution_count": null,
   "metadata": {},
   "outputs": [],
   "source": []
  }
 ],
 "metadata": {
  "kernelspec": {
   "display_name": "Python 3",
   "language": "python",
   "name": "python3"
  },
  "language_info": {
   "codemirror_mode": {
    "name": "ipython",
    "version": 3
   },
   "file_extension": ".py",
   "mimetype": "text/x-python",
   "name": "python",
   "nbconvert_exporter": "python",
   "pygments_lexer": "ipython3",
   "version": "3.8.5"
  }
 },
 "nbformat": 4,
 "nbformat_minor": 4
}
