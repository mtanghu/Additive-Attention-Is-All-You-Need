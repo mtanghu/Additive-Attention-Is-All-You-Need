{
 "cells": [
  {
   "cell_type": "code",
   "execution_count": null,
   "metadata": {},
   "outputs": [],
   "source": [
    "import torch\n",
    "from leap import LeapForCausalLM, LeapConfig\n",
    "from transformers import (TrainingArguments, Trainer,\n",
    "                          EarlyStoppingCallback, default_data_collator)\n",
    "\n",
    "from datasets import load_dataset, Dataset, DatasetDict, concatenate_datasets\n",
    "from torch.utils.data import Subset\n",
    "\n",
    "# word level tokenizer as per wikitext modeling\n",
    "from tokenizers import Tokenizer\n",
    "from tokenizers.models import WordLevel\n",
    "from tokenizers.pre_tokenizers import Whitespace\n",
    "from tokenizers.trainers import WordLevelTrainer\n",
    "from transformers import PreTrainedTokenizerFast\n",
    "\n",
    "# gpt model imports\n",
    "from transformers import GPT2Config, GPT2LMHeadModel\n",
    "\n",
    "from itertools import chain\n",
    "import logging\n",
    "logging.disable(logging.INFO)"
   ]
  },
  {
   "cell_type": "code",
   "execution_count": null,
   "metadata": {},
   "outputs": [],
   "source": [
    "# globals\n",
    "raw_datasets = load_dataset(\"wikitext\", \"wikitext-103-v1\", split = [\"train[:10%]\", \"validation\", \"test\"])\n",
    "raw_datasets = DatasetDict({\n",
    "    \"train\": raw_datasets[0],\n",
    "    \"validation\": raw_datasets[1],\n",
    "    \"test\": raw_datasets[2]\n",
    "})\n",
    "\n",
    "total_train_tokens = 10416407 # see appendix\n",
    "max_num_params = 33800704 # 448 d_model gpt2 with 14 layers\n",
    "param_data_ratio = max_num_params**.74 / total_train_tokens\n",
    "block_size = 1024\n",
    "subset_datasets = raw_datasets\n",
    "\n",
    "# hyperparameters\n",
    "training_args = TrainingArguments(\n",
    "    output_dir = \"./results\",\n",
    "    logging_strategy = \"epoch\",\n",
    "    evaluation_strategy = \"epoch\",\n",
    "    save_strategy = \"epoch\",\n",
    "    report_to = \"none\",\n",
    "    learning_rate = 1e-3,\n",
    "    lr_scheduler_type = \"cosine\",\n",
    "    warmup_ratio = .05,\n",
    "    num_train_epochs = 20,\n",
    "    per_device_train_batch_size = 2,\n",
    "    per_device_eval_batch_size = 2,\n",
    "    load_best_model_at_end = True,\n",
    "    metric_for_best_model = \"eval_loss\",\n",
    "    max_grad_norm = 1,\n",
    "    fp16 = True,\n",
    ")\n"
   ]
  },
  {
   "cell_type": "code",
   "execution_count": null,
   "metadata": {},
   "outputs": [],
   "source": [
    "# make a word level tokenizer\n",
    "tokenizer = Tokenizer(WordLevel(unk_token=\"<unk>\"))\n",
    "tokenizer.pre_tokenizer = Whitespace()\n",
    "tokenizer.enable_padding(pad_id = 0, pad_token = \"<pad>\")\n",
    "# no post processing\n",
    "\n",
    "# WE USE A SET VOCAB SIZE OF 8,192 FOR SPEED (the oov should only be around 5%)\n",
    "token_trainer = WordLevelTrainer(vocab_size = 8191, # -1 for pad token\n",
    "                                 special_tokens = [\"<unk>\"])\n",
    "\n",
    "def batch_iterator(batch_size=10000):\n",
    "    text = raw_datasets[\"train\"]['text']\n",
    "    for i in range(0, len(text), batch_size):\n",
    "        yield text[i : i + batch_size]\n",
    "\n",
    "tokenizer.train_from_iterator(batch_iterator(),\n",
    "                              trainer = token_trainer,\n",
    "                              length=len(raw_datasets[\"train\"][\"text\"]))\n",
    "tokenizer = PreTrainedTokenizerFast(tokenizer_object=tokenizer, pad_token = \"<pad>\")"
   ]
  },
  {
   "cell_type": "code",
   "execution_count": null,
   "metadata": {},
   "outputs": [],
   "source": [
    "# tokenized the dataset\n",
    "def tokenize_function(examples):\n",
    "    output = tokenizer(examples[\"text\"])\n",
    "    return output\n",
    "\n",
    "# tokenize dataset\n",
    "tokenized_datasets = raw_datasets.map(\n",
    "    tokenize_function,\n",
    "    batched=True,\n",
    "    remove_columns = \"text\",\n",
    "    desc=f\"tokenize dataset\"\n",
    ")"
   ]
  },
  {
   "cell_type": "code",
   "execution_count": null,
   "metadata": {},
   "outputs": [],
   "source": [
    "def subset_data(dataset, num_parameters):\n",
    "    dataset = DatasetDict(dataset.copy())\n",
    "    subset_num_tokens = num_parameters**.74 / param_data_ratio\n",
    "    \n",
    "    # add rows until we meet the subset_num_tokens\n",
    "    training_set = dataset[\"train\"]\n",
    "    total_tokens = 0\n",
    "    for i, row in enumerate(training_set):\n",
    "        total_tokens += len(row[\"input_ids\"])\n",
    "        \n",
    "        if total_tokens >= subset_num_tokens:\n",
    "            print(f'NUMBER OF TOKENS: {total_tokens:,}')\n",
    "            break\n",
    "            \n",
    "    dataset[\"train\"] = Dataset.from_dict(training_set[:i+1])\n",
    "    return dataset\n",
    "\n",
    "def group_texts(examples):\n",
    "    # Concatenate all texts\n",
    "    concatenated_examples = {k: list(chain(*examples[k])) for k in examples.keys()}\n",
    "    total_length = len(concatenated_examples[list(examples.keys())[0]])\n",
    "\n",
    "    # Split by chunks of max_len\n",
    "    result = {\n",
    "        k: [t[i : i + block_size] for i in range(0, total_length, block_size)]\n",
    "        for k, t in concatenated_examples.items()\n",
    "    }\n",
    "    \n",
    "    # for language modeling, inputs are labels (they will be shifted inside the model)\n",
    "    result[\"labels\"] = result[\"input_ids\"].copy()\n",
    "    \n",
    "    # pad last block with 0\n",
    "    last_ids = result[\"input_ids\"][-1]\n",
    "    diff = block_size - len(last_ids)\n",
    "    result[\"input_ids\"][-1] = last_ids + [0 for _ in range(diff)]\n",
    "    \n",
    "    # set attention mask to mask out these tokens\n",
    "    result[\"attention_mask\"][-1] = result[\"attention_mask\"][-1] + [0 for _ in range(diff)]\n",
    "    \n",
    "    # set pad labels to -100 so they will be ignored by CrossEntropyLoss\n",
    "    result[\"labels\"][-1] = result[\"labels\"][-1] + [-100 for _ in range(diff)]\n",
    "    return result"
   ]
  },
  {
   "cell_type": "code",
   "execution_count": null,
   "metadata": {},
   "outputs": [],
   "source": [
    "def run_training(hidden_size, n_layer, n_head, seq_len, gpt = False, rnn = False):\n",
    "    # get number of parameters first\n",
    "    if gpt is True:\n",
    "        config = GPT2Config(\n",
    "            n_embd = hidden_size, n_layer = n_layer,\n",
    "            n_head = 1, vocab_size = 0, n_positions = 0\n",
    "        )\n",
    "        model = GPT2LMHeadModel(config)\n",
    "    elif rnn is True:\n",
    "        config = LeapConfig(\n",
    "            hidden_size = hidden_size, n_layer = n_layer,\n",
    "            n_head = 1, vocab_size = 0, n_positions = 0, rnn = True\n",
    "        )\n",
    "        model = LeapForCausalLM(config)\n",
    "    else:\n",
    "        config = LeapConfig(\n",
    "            hidden_size = hidden_size, n_layer = n_layer,\n",
    "            n_head = 1, vocab_size = 0, n_positions = 0\n",
    "        )\n",
    "        model = LeapForCausalLM(config)\n",
    "\n",
    "    non_embedding_parameters = sum(p.numel() for p in model.parameters() if p.requires_grad)\n",
    "    print(f'NON EMBEDDING PARAMETERS: {non_embedding_parameters:,}')\n",
    "\n",
    "    # subset dataset\n",
    "    subset_datasets = subset_data(tokenized_datasets, non_embedding_parameters)\n",
    "\n",
    "    # set globally block size for group texts function\n",
    "    global block_size\n",
    "    block_size = seq_len\n",
    "    lm_dataset = subset_datasets.map(\n",
    "        group_texts,\n",
    "        batched=True,\n",
    "        batch_size=10000,\n",
    "        desc=f\"Grouping texts in chunks of {block_size}\"\n",
    "    )\n",
    "\n",
    "    lm_dataset = lm_dataset.remove_columns([\"token_type_ids\"])\n",
    "\n",
    "    if gpt is True:\n",
    "        config = GPT2Config(\n",
    "            n_embd = hidden_size, n_layer = n_layer, n_head = n_head,\n",
    "            vocab_size = len(tokenizer) + 1, n_positions = seq_len,\n",
    "            initializer_range = 1 / hidden_size**.5\n",
    "        )\n",
    "        model = GPT2LMHeadModel(config)\n",
    "    elif rnn is True:\n",
    "        config = LeapConfig(\n",
    "            hidden_size = hidden_size, n_layer = n_layer, n_head = n_head,\n",
    "            vocab_size = len(tokenizer) + 1, n_positions = seq_len,\n",
    "            use_local_att = True, window_sizes = None, rescale = 10,\n",
    "            initializer_range = 1 / hidden_size**.5, rnn = True\n",
    "        )\n",
    "        model = LeapForCausalLM(config)\n",
    "    else:\n",
    "        config = LeapConfig(\n",
    "            hidden_size = hidden_size, n_layer = n_layer, n_head = n_head,\n",
    "            vocab_size = len(tokenizer) + 1, n_positions = seq_len,\n",
    "            use_local_att = True, window_sizes = None, rescale = 10,\n",
    "            initializer_range = 1 / hidden_size**.5,\n",
    "        )\n",
    "        model = LeapForCausalLM(config)\n",
    "\n",
    "    trainer = Trainer(\n",
    "        model=model,\n",
    "        args=training_args,\n",
    "        data_collator=default_data_collator,\n",
    "        train_dataset=lm_dataset[\"train\"],\n",
    "        eval_dataset=lm_dataset[\"validation\"],\n",
    "        callbacks = [EarlyStoppingCallback]\n",
    "    )\n",
    "\n",
    "    trainer.train()\n",
    "\n",
    "    print(\"===============TEST SET CROSS ENTROPY LOSS EVALUATION===============\")\n",
    "    print(trainer.evaluate(lm_dataset[\"test\"]))\n",
    "\n",
    "    # save gpu memory\n",
    "    del trainer\n",
    "    del model\n",
    "    del lm_dataset\n",
    "    del subset_datasets\n",
    "    torch.cuda.empty_cache()"
   ]
  },
  {
   "cell_type": "markdown",
   "metadata": {},
   "source": [
    "# LEAP TRAINING\n",
    "Each run is done seperately in it's own cell just for easy viewing of logs and in case something goes wrong (OOM errors or training issues)"
   ]
  },
  {
   "cell_type": "code",
   "execution_count": null,
   "metadata": {},
   "outputs": [],
   "source": [
    "run_training(hidden_size = 64, n_layer = 2, n_head = 2, seq_len = 256, gpt = False)"
   ]
  },
  {
   "cell_type": "code",
   "execution_count": null,
   "metadata": {},
   "outputs": [],
   "source": [
    "run_training(hidden_size = 96, n_layer = 3, n_head = 3, seq_len = 384, gpt = False)"
   ]
  },
  {
   "cell_type": "code",
   "execution_count": null,
   "metadata": {},
   "outputs": [],
   "source": [
    "run_training(hidden_size = 128, n_layer = 4, n_head = 4, seq_len = 512, gpt = False)"
   ]
  },
  {
   "cell_type": "code",
   "execution_count": null,
   "metadata": {},
   "outputs": [],
   "source": [
    "run_training(hidden_size = 160, n_layer = 5, n_head = 5, seq_len = 640, gpt = False)"
   ]
  },
  {
   "cell_type": "code",
   "execution_count": null,
   "metadata": {},
   "outputs": [],
   "source": [
    "run_training(hidden_size = 192, n_layer = 6, n_head = 6, seq_len = 768, gpt = False)"
   ]
  },
  {
   "cell_type": "code",
   "execution_count": null,
   "metadata": {},
   "outputs": [],
   "source": [
    "run_training(hidden_size = 256, n_layer = 8, n_head = 8, seq_len = 1024, gpt = False)"
   ]
  },
  {
   "cell_type": "code",
   "execution_count": null,
   "metadata": {},
   "outputs": [],
   "source": [
    "run_training(hidden_size = 320, n_layer = 10, n_head = 10, seq_len = 1280, gpt = False)"
   ]
  },
  {
   "cell_type": "code",
   "execution_count": null,
   "metadata": {},
   "outputs": [],
   "source": [
    "run_training(hidden_size = 384, n_layer = 12, n_head = 12, seq_len = 1536, gpt = False)"
   ]
  },
  {
   "cell_type": "code",
   "execution_count": null,
   "metadata": {},
   "outputs": [],
   "source": [
    "run_training(hidden_size = 448, n_layer = 14, n_head = 14, seq_len = 1792, gpt = False)"
   ]
  },
  {
   "cell_type": "code",
   "execution_count": null,
   "metadata": {},
   "outputs": [],
   "source": [
    "run_training(hidden_size = 512, n_layer = 16, n_head = 16, seq_len = 2048, gpt = False)"
   ]
  },
  {
   "cell_type": "markdown",
   "metadata": {},
   "source": [
    "# LSTM TRAINING"
   ]
  },
  {
   "cell_type": "code",
   "execution_count": null,
   "metadata": {},
   "outputs": [],
   "source": [
    "run_training(hidden_size = 64, n_layer = 2, n_head = 2, seq_len = 256, rnn = True)"
   ]
  },
  {
   "cell_type": "code",
   "execution_count": null,
   "metadata": {},
   "outputs": [],
   "source": [
    "run_training(hidden_size = 96, n_layer = 3, n_head = 3, seq_len = 384, rnn = True)"
   ]
  },
  {
   "cell_type": "code",
   "execution_count": null,
   "metadata": {},
   "outputs": [],
   "source": [
    "run_training(hidden_size = 128, n_layer = 4, n_head = 4, seq_len = 512, rnn = True)"
   ]
  },
  {
   "cell_type": "code",
   "execution_count": null,
   "metadata": {},
   "outputs": [],
   "source": [
    "run_training(hidden_size = 160, n_layer = 5, n_head = 5, seq_len = 640, rnn = True)"
   ]
  },
  {
   "cell_type": "code",
   "execution_count": null,
   "metadata": {},
   "outputs": [],
   "source": [
    "run_training(hidden_size = 192, n_layer = 6, n_head = 6, seq_len = 768, rnn = True)"
   ]
  },
  {
   "cell_type": "code",
   "execution_count": null,
   "metadata": {},
   "outputs": [],
   "source": [
    "run_training(hidden_size = 256, n_layer = 8, n_head = 8, seq_len = 1024, rnn = True)"
   ]
  },
  {
   "cell_type": "code",
   "execution_count": null,
   "metadata": {},
   "outputs": [],
   "source": [
    "run_training(hidden_size = 320, n_layer = 10, n_head = 10, seq_len = 1280, rnn = True)"
   ]
  },
  {
   "cell_type": "code",
   "execution_count": null,
   "metadata": {},
   "outputs": [],
   "source": [
    "run_training(hidden_size = 384, n_layer = 12, n_head = 12, seq_len = 1536, rnn = True)"
   ]
  },
  {
   "cell_type": "markdown",
   "metadata": {},
   "source": [
    "# GPT2 TRAINING\n",
    "Each run is done seperately in it's own cell just for easy viewing of logs and in case something goes wrong (OOM errors or training issues)"
   ]
  },
  {
   "cell_type": "code",
   "execution_count": null,
   "metadata": {},
   "outputs": [],
   "source": [
    "run_training(hidden_size = 64, n_layer = 2, n_head = 2, seq_len = 256, gpt = True)"
   ]
  },
  {
   "cell_type": "code",
   "execution_count": null,
   "metadata": {},
   "outputs": [],
   "source": [
    "run_training(hidden_size = 96, n_layer = 3, n_head = 3, seq_len = 384, gpt = True)"
   ]
  },
  {
   "cell_type": "code",
   "execution_count": null,
   "metadata": {},
   "outputs": [],
   "source": [
    "run_training(hidden_size = 128, n_layer = 4, n_head = 4, seq_len = 512, gpt = True)"
   ]
  },
  {
   "cell_type": "code",
   "execution_count": null,
   "metadata": {},
   "outputs": [],
   "source": [
    "run_training(hidden_size = 160, n_layer = 5, n_head = 5, seq_len = 640, gpt = True)"
   ]
  },
  {
   "cell_type": "code",
   "execution_count": null,
   "metadata": {},
   "outputs": [],
   "source": [
    "run_training(hidden_size = 192, n_layer = 6, n_head = 6, seq_len = 768, gpt = True)"
   ]
  },
  {
   "cell_type": "code",
   "execution_count": null,
   "metadata": {},
   "outputs": [],
   "source": [
    "run_training(hidden_size = 256, n_layer = 8, n_head = 8, seq_len = 1024, gpt = True)"
   ]
  },
  {
   "cell_type": "code",
   "execution_count": null,
   "metadata": {},
   "outputs": [],
   "source": [
    "run_training(hidden_size = 320, n_layer = 10, n_head = 10, seq_len = 1280, gpt = True)"
   ]
  },
  {
   "cell_type": "code",
   "execution_count": null,
   "metadata": {
    "colab": {
     "base_uri": "https://localhost:8080/",
     "height": 732,
     "referenced_widgets": [
      "33761c638b9a470f8eeefca3d48233ef",
      "df25015b861240cba33c0edbb58fa358",
      "4087a069e777408fbb9c768ad3f73917",
      "85d01219eb9941019922732cf3a8e1f3",
      "7562b2bceb5746ceaaec6a32ef6c7e20",
      "d81e93aaf21343ab93bcba2b6b827899",
      "1727c5c7c4fc40959314c1278ea73fc3",
      "84e8e422c16f44f8851626342497fb1c",
      "fb5cf0efc9ac4652bca4028af090c1a5",
      "2d184e055b4d4de28354aefbb42bb863",
      "aa90c4547d634aad92b1101d60a64bb3",
      "c60610740f204353b8aa482d66bd45c3",
      "c788346799224e499b312dc143438965",
      "d12665715f05414cafa67ec408668c2f",
      "693981e0bd604cb9b96c1f624ab7ec2c",
      "d0006334cfa34b2e8676449ba6a4627c",
      "e9b4aa243bb443bf96ed3aa56d27f2ab",
      "7fa1eea82fbe4ac9aa8bc9f5693bc487",
      "e0be7ebb10704bb1a4917faf27f720b1",
      "dc9b126bac7f4a9e9d7f5316d228e9bd",
      "445785ba9e4f4f5b9b3257a180bc4d97",
      "129a76f587144321a0b2173b151b62c5",
      "f7a55683e17940bd9d9ad557b281abb6",
      "2e8476f92731428484e87e1391aa83cc",
      "2021e664a8f74f2d8cb49defbe1f2e9f",
      "7fce8c063c16463f93cbf5c1058c3afb",
      "c07fc64aa4344ee5abd39a3a5be5246d",
      "1db00b399be643a7b8e8579acc2e8ae1",
      "0e046b00aab34d33ac68ede56c762f01",
      "eab38452470446df935fc6a522a6e09d",
      "3f84f6a976f74609a89916723b1e510d",
      "54e0128d397d419888e16729fa844142",
      "675a6e5b8d9744b881c8882c364c142c"
     ]
    },
    "id": "vMws2x6hgXhy",
    "outputId": "24e6d926-5ced-4b96-845d-5e47052daec3"
   },
   "outputs": [],
   "source": [
    "# NOTE: THIS WAS RUN ON A GOOGLE COLAB P100 WITH THE CODE SHOWN\n",
    "run_training(hidden_size = 384, n_layer = 12, n_head = 12, seq_len = 1536, gpt = True)"
   ]
  },
  {
   "cell_type": "code",
   "execution_count": null,
   "metadata": {},
   "outputs": [],
   "source": [
    "# NOTE: NOT RUN DUE TO MEMORY AND TIME CONTRAINTS\n",
    "# run_training(hidden_size = 448, n_layer = 14, n_head = 14, seq_len = 1792, gpt = True)"
   ]
  },
  {
   "cell_type": "markdown",
   "metadata": {},
   "source": [
    "# Appendix"
   ]
  },
  {
   "cell_type": "code",
   "execution_count": null,
   "metadata": {},
   "outputs": [],
   "source": [
    "import re\n",
    "\n",
    "# to count tokens, comes from https://huggingface.co/docs/tokenizers/components\n",
    "whitespace_regex = re.compile(\"\\w+|[^\\w\\s]+\")\n",
    "\n",
    "# get number of tokens\n",
    "total_tokens = 0\n",
    "for row in raw_datasets[\"train\"][\"text\"]:\n",
    "    total_tokens += len((whitespace_regex.split(row)))\n",
    "total_tokens"
   ]
  }
 ],
 "metadata": {
  "kernelspec": {
   "display_name": "Python 3",
   "language": "python",
   "name": "python3"
  },
  "language_info": {
   "codemirror_mode": {
    "name": "ipython",
    "version": 3
   },
   "file_extension": ".py",
   "mimetype": "text/x-python",
   "name": "python",
   "nbconvert_exporter": "python",
   "pygments_lexer": "ipython3",
   "version": "3.8.5"
  }
 },
 "nbformat": 4,
 "nbformat_minor": 4
}
