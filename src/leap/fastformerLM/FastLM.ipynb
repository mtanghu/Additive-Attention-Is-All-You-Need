{
 "cells": [
  {
   "cell_type": "code",
   "execution_count": null,
   "metadata": {},
   "outputs": [],
   "source": [
    "from leap import FastformerForCausalLM, FastformerLMConfig\n",
    "from transformers import TrainingArguments, Trainer, default_data_collator\n",
    "from datasets import load_dataset\n",
    "\n",
    "from itertools import chain"
   ]
  },
  {
   "cell_type": "code",
   "execution_count": null,
   "metadata": {},
   "outputs": [
    {
     "name": "stderr",
     "output_type": "stream",
     "text": [
      "C:\\Users\\micha\\anaconda3\\lib\\site-packages\\transformers\\models\\t5\\tokenization_t5_fast.py:156: FutureWarning: This tokenizer was incorrectly instantiated with a model max length of 512 which will be corrected in Transformers v5.\n",
      "For now, this behavior is kept to avoid breaking backwards compatibility when padding/encoding with `truncation is True`.\n",
      "- Be aware that you SHOULD NOT rely on t5-small automatically truncating your input to 512 when padding/encoding.\n",
      "- If you want to encode/pad to sequences longer than 512 you can either instantiate this tokenizer with `model_max_length` or pass `max_length` when encoding/padding.\n",
      "- To avoid this warning, please instantiate this tokenizer with `model_max_length` set to your preferred value.\n",
      "  warnings.warn(\n"
     ]
    }
   ],
   "source": [
    "# t5 tokenzier, warning is nothing to worry about since we will group the texts\n",
    "from transformers import AutoTokenizer\n",
    "tokenizer = AutoTokenizer.from_pretrained(\"t5-small\")"
   ]
  },
  {
   "cell_type": "code",
   "execution_count": null,
   "metadata": {},
   "outputs": [
    {
     "name": "stderr",
     "output_type": "stream",
     "text": [
      "Reusing dataset wikitext (C:\\Users\\micha\\.cache\\huggingface\\datasets\\wikitext\\wikitext-2-v1\\1.0.0\\a241db52902eaf2c6aa732210bead40c090019a499ceb13bcbfa3f8ab646a126)\n"
     ]
    },
    {
     "data": {
      "application/vnd.jupyter.widget-view+json": {
       "model_id": "ee1fcd4c786c461cb496608a3b1df7e2",
       "version_major": 2,
       "version_minor": 0
      },
      "text/plain": [
       "  0%|          | 0/3 [00:00<?, ?it/s]"
      ]
     },
     "metadata": {},
     "output_type": "display_data"
    },
    {
     "name": "stderr",
     "output_type": "stream",
     "text": [
      "Loading cached processed dataset at C:\\Users\\micha\\.cache\\huggingface\\datasets\\wikitext\\wikitext-2-v1\\1.0.0\\a241db52902eaf2c6aa732210bead40c090019a499ceb13bcbfa3f8ab646a126\\cache-f37a0e1d2b8653e1.arrow\n",
      "Loading cached processed dataset at C:\\Users\\micha\\.cache\\huggingface\\datasets\\wikitext\\wikitext-2-v1\\1.0.0\\a241db52902eaf2c6aa732210bead40c090019a499ceb13bcbfa3f8ab646a126\\cache-11f852fec431ca73.arrow\n",
      "Loading cached processed dataset at C:\\Users\\micha\\.cache\\huggingface\\datasets\\wikitext\\wikitext-2-v1\\1.0.0\\a241db52902eaf2c6aa732210bead40c090019a499ceb13bcbfa3f8ab646a126\\cache-f34b03b1d56e9cb0.arrow\n",
      "Loading cached processed dataset at C:\\Users\\micha\\.cache\\huggingface\\datasets\\wikitext\\wikitext-2-v1\\1.0.0\\a241db52902eaf2c6aa732210bead40c090019a499ceb13bcbfa3f8ab646a126\\cache-75498eacd22f25cc.arrow\n",
      "Loading cached processed dataset at C:\\Users\\micha\\.cache\\huggingface\\datasets\\wikitext\\wikitext-2-v1\\1.0.0\\a241db52902eaf2c6aa732210bead40c090019a499ceb13bcbfa3f8ab646a126\\cache-0d438b212cccd491.arrow\n",
      "Loading cached processed dataset at C:\\Users\\micha\\.cache\\huggingface\\datasets\\wikitext\\wikitext-2-v1\\1.0.0\\a241db52902eaf2c6aa732210bead40c090019a499ceb13bcbfa3f8ab646a126\\cache-1ed91ef60323d639.arrow\n"
     ]
    }
   ],
   "source": [
    "raw_datasets = load_dataset(\"wikitext\", \"wikitext-2-v1\")\n",
    "column_names = raw_datasets[\"train\"].column_names\n",
    "text_column_name = \"text\" if \"text\" in column_names else column_names[0]\n",
    "block_size = 2048\n",
    "\n",
    "def tokenize_function(examples):\n",
    "    output = tokenizer(examples[text_column_name])\n",
    "    return output\n",
    "\n",
    "def group_texts(examples):\n",
    "    # Concatenate all texts.\n",
    "    concatenated_examples = {k: list(chain(*examples[k])) for k in examples.keys()}\n",
    "    total_length = len(concatenated_examples[list(examples.keys())[0]])\n",
    "    # We drop the small remainder, we could add padding if the model supported it instead of this drop, you can\n",
    "    # customize this part to your needs.\n",
    "    if total_length >= block_size:\n",
    "        total_length = (total_length // block_size) * block_size\n",
    "    # Split by chunks of max_len.\n",
    "    result = {\n",
    "        k: [t[i : i + block_size] for i in range(0, total_length, block_size)]\n",
    "        for k, t in concatenated_examples.items()\n",
    "    }\n",
    "    result[\"labels\"] = result[\"input_ids\"].copy()\n",
    "    return result\n",
    "\n",
    "tokenized_datasets = raw_datasets.map(\n",
    "            tokenize_function,\n",
    "            batched=True,\n",
    "            num_proc=1,\n",
    "            remove_columns=column_names,\n",
    "        )\n",
    "\n",
    "lm_dataset = tokenized_datasets.map(\n",
    "    group_texts,\n",
    "    batched=True,\n",
    "    num_proc=1,\n",
    "    desc=f\"Grouping texts in chunks of {block_size}\",\n",
    ")\n",
    "\n",
    "lm_dataset.set_format('pt')"
   ]
  },
  {
   "cell_type": "code",
   "execution_count": null,
   "metadata": {},
   "outputs": [],
   "source": [
    "# hyperparameters\n",
    "training_args = TrainingArguments(\n",
    "    output_dir = \"./results\",\n",
    "    logging_strategy = \"epoch\",\n",
    "    evaluation_strategy =\"epoch\",\n",
    "    save_strategy = \"epoch\",\n",
    "    report_to = \"none\",\n",
    "    learning_rate = 5e-4, \n",
    "    num_train_epochs = 25,\n",
    "    per_device_train_batch_size = 2,\n",
    "    per_device_eval_batch_size = 2,\n",
    "    load_best_model_at_end = True,\n",
    "    metric_for_best_model = \"eval_loss\",\n",
    "    max_grad_norm = 1,\n",
    "    fp16 = True\n",
    ")\n",
    "# learning rates tried 1e-4, 5e-4, 1e-3\n",
    "# 5e-4 yielded best results on BOTH windowed additive attention and gpt in terms of validation loss\n",
    "\n",
    "config = FastformerLMConfig(\n",
    "    hidden_size = 128,\n",
    "    vocab_size = len(tokenizer),\n",
    "    n_positions = block_size,\n",
    "    n_heads = 4,\n",
    "    n_layer = 6,\n",
    "    use_local_att = False,\n",
    "    window_sizes = None,\n",
    "    hidden_dropout_prob = .1,\n",
    "    rescale = 15\n",
    ")"
   ]
  },
  {
   "cell_type": "markdown",
   "metadata": {},
   "source": [
    "# 1. Additive Attention adapted for causal language modeling"
   ]
  },
  {
   "cell_type": "code",
   "execution_count": null,
   "metadata": {},
   "outputs": [],
   "source": [
    "fast_model = FastformerForCausalLM(config)"
   ]
  },
  {
   "cell_type": "code",
   "execution_count": null,
   "metadata": {},
   "outputs": [
    {
     "data": {
      "text/plain": [
       "'5.5M'"
      ]
     },
     "execution_count": null,
     "metadata": {},
     "output_type": "execute_result"
    }
   ],
   "source": [
    "pytorch_total_params = sum(p.numel() for p in fast_model.parameters() if p.requires_grad)\n",
    "f'{(pytorch_total_params / 1e6):2.1f}M'"
   ]
  },
  {
   "cell_type": "code",
   "execution_count": null,
   "metadata": {},
   "outputs": [],
   "source": [
    "fast_trainer = Trainer(\n",
    "    model=fast_model,\n",
    "    args=training_args,\n",
    "    data_collator=default_data_collator,\n",
    "    train_dataset=lm_dataset[\"train\"],\n",
    "    eval_dataset=lm_dataset[\"validation\"]\n",
    ")\n",
    "\n",
    "fast_trainer.train()"
   ]
  },
  {
   "cell_type": "code",
   "execution_count": null,
   "metadata": {},
   "outputs": [],
   "source": [
    "import torch\n",
    "fast_model.cpu()\n",
    "torch.cuda.empty_cache()"
   ]
  },
  {
   "cell_type": "markdown",
   "metadata": {},
   "source": [
    "# 2. Windowed Additive Attention"
   ]
  },
  {
   "cell_type": "code",
   "execution_count": null,
   "metadata": {},
   "outputs": [],
   "source": [
    "config = FastformerLMConfig(\n",
    "    hidden_size = 128,\n",
    "    vocab_size = len(tokenizer),\n",
    "    n_positions = block_size,\n",
    "    n_heads = 4,\n",
    "    n_layer = 6,\n",
    "    use_local_att = True,\n",
    "    window_sizes = None, # will be set automatically\n",
    "    hidden_dropout_prob = .1,\n",
    "    rescale = 10 # 15 leads to unstable training\n",
    ")\n",
    "window_model = FastformerForCausalLM(config)"
   ]
  },
  {
   "cell_type": "code",
   "execution_count": null,
   "metadata": {},
   "outputs": [
    {
     "data": {
      "text/plain": [
       "'5.5M'"
      ]
     },
     "execution_count": null,
     "metadata": {},
     "output_type": "execute_result"
    }
   ],
   "source": [
    "pytorch_total_params = sum(p.numel() for p in window_model.parameters() if p.requires_grad)\n",
    "f'{(pytorch_total_params / 1e6):2.1f}M'"
   ]
  },
  {
   "cell_type": "code",
   "execution_count": null,
   "metadata": {},
   "outputs": [],
   "source": [
    "window_trainer = Trainer(\n",
    "    model=window_model,\n",
    "    args=training_args,\n",
    "    data_collator=default_data_collator,\n",
    "    train_dataset=lm_dataset[\"train\"],\n",
    "    eval_dataset=lm_dataset[\"validation\"]\n",
    ")\n",
    "\n",
    "window_trainer.train()"
   ]
  },
  {
   "cell_type": "code",
   "execution_count": null,
   "metadata": {},
   "outputs": [],
   "source": [
    "import torch\n",
    "window_model.cpu()\n",
    "torch.cuda.empty_cache()"
   ]
  },
  {
   "cell_type": "markdown",
   "metadata": {},
   "source": [
    "# 3. GPT2 (comparision)"
   ]
  },
  {
   "cell_type": "code",
   "execution_count": null,
   "metadata": {},
   "outputs": [],
   "source": [
    "from transformers import GPT2Config, GPT2LMHeadModel\n",
    "config = GPT2Config(n_embd = 128, vocab_size=len(tokenizer),\n",
    "                    n_positions = block_size, n_layer = 6, n_head = 4,\n",
    "                    resid_pdrop = .1, embd_pdrop = .1, attn_pdrop = .1,\n",
    "                    use_cache = False \n",
    "                   )\n",
    "gpt_model = GPT2LMHeadModel(config)"
   ]
  },
  {
   "cell_type": "code",
   "execution_count": null,
   "metadata": {},
   "outputs": [
    {
     "data": {
      "text/plain": [
       "'5.6M'"
      ]
     },
     "execution_count": null,
     "metadata": {},
     "output_type": "execute_result"
    }
   ],
   "source": [
    "pytorch_total_params = sum(p.numel() for p in gpt_model.parameters() if p.requires_grad)\n",
    "f'{(pytorch_total_params / 1e6):2.1f}M'"
   ]
  },
  {
   "cell_type": "code",
   "execution_count": null,
   "metadata": {},
   "outputs": [],
   "source": [
    "gpt_trainer = Trainer(\n",
    "    model=gpt_model,\n",
    "    args=training_args,\n",
    "    data_collator=default_data_collator,\n",
    "    train_dataset=lm_dataset[\"train\"],\n",
    "    eval_dataset=lm_dataset[\"validation\"]\n",
    ")\n",
    "\n",
    "gpt_trainer.train()"
   ]
  },
  {
   "cell_type": "markdown",
   "metadata": {},
   "source": [
    "# Results"
   ]
  },
  {
   "cell_type": "code",
   "execution_count": null,
   "metadata": {},
   "outputs": [],
   "source": [
    "def format_num_param(model):\n",
    "    total_params = sum(p.numel() for p in model.parameters() if p.requires_grad)\n",
    "    return f'{(total_params / 1e6):2.1f}M'"
   ]
  },
  {
   "cell_type": "code",
   "execution_count": null,
   "metadata": {},
   "outputs": [
    {
     "data": {
      "text/html": [
       "<div>\n",
       "<style scoped>\n",
       "    .dataframe tbody tr th:only-of-type {\n",
       "        vertical-align: middle;\n",
       "    }\n",
       "\n",
       "    .dataframe tbody tr th {\n",
       "        vertical-align: top;\n",
       "    }\n",
       "\n",
       "    .dataframe thead th {\n",
       "        text-align: right;\n",
       "    }\n",
       "</style>\n",
       "<table border=\"1\" class=\"dataframe\">\n",
       "  <thead>\n",
       "    <tr style=\"text-align: right;\">\n",
       "      <th></th>\n",
       "      <th>Additive Attention (5.5M parameters)</th>\n",
       "      <th>Windowed Additive Attention (5.5M parameters)</th>\n",
       "      <th>GPT2 (5.6M parameters)</th>\n",
       "    </tr>\n",
       "    <tr>\n",
       "      <th>epoch</th>\n",
       "      <th></th>\n",
       "      <th></th>\n",
       "      <th></th>\n",
       "    </tr>\n",
       "  </thead>\n",
       "  <tbody>\n",
       "    <tr>\n",
       "      <th>1.0</th>\n",
       "      <td>5.172332</td>\n",
       "      <td>5.212913</td>\n",
       "      <td>5.130702</td>\n",
       "    </tr>\n",
       "    <tr>\n",
       "      <th>2.0</th>\n",
       "      <td>4.929445</td>\n",
       "      <td>4.893368</td>\n",
       "      <td>4.886001</td>\n",
       "    </tr>\n",
       "    <tr>\n",
       "      <th>3.0</th>\n",
       "      <td>4.798681</td>\n",
       "      <td>4.741949</td>\n",
       "      <td>4.756009</td>\n",
       "    </tr>\n",
       "    <tr>\n",
       "      <th>4.0</th>\n",
       "      <td>4.701014</td>\n",
       "      <td>4.633341</td>\n",
       "      <td>4.664287</td>\n",
       "    </tr>\n",
       "    <tr>\n",
       "      <th>5.0</th>\n",
       "      <td>4.622377</td>\n",
       "      <td>4.538453</td>\n",
       "      <td>4.586405</td>\n",
       "    </tr>\n",
       "    <tr>\n",
       "      <th>6.0</th>\n",
       "      <td>4.560768</td>\n",
       "      <td>4.478927</td>\n",
       "      <td>4.514636</td>\n",
       "    </tr>\n",
       "    <tr>\n",
       "      <th>7.0</th>\n",
       "      <td>4.508035</td>\n",
       "      <td>4.393275</td>\n",
       "      <td>4.464148</td>\n",
       "    </tr>\n",
       "    <tr>\n",
       "      <th>8.0</th>\n",
       "      <td>4.475327</td>\n",
       "      <td>4.343331</td>\n",
       "      <td>4.419113</td>\n",
       "    </tr>\n",
       "    <tr>\n",
       "      <th>9.0</th>\n",
       "      <td>4.446158</td>\n",
       "      <td>4.295920</td>\n",
       "      <td>4.382271</td>\n",
       "    </tr>\n",
       "    <tr>\n",
       "      <th>10.0</th>\n",
       "      <td>4.422294</td>\n",
       "      <td>4.231284</td>\n",
       "      <td>4.350220</td>\n",
       "    </tr>\n",
       "    <tr>\n",
       "      <th>11.0</th>\n",
       "      <td>4.407485</td>\n",
       "      <td>4.203519</td>\n",
       "      <td>4.323933</td>\n",
       "    </tr>\n",
       "    <tr>\n",
       "      <th>12.0</th>\n",
       "      <td>4.395559</td>\n",
       "      <td>4.168703</td>\n",
       "      <td>4.298260</td>\n",
       "    </tr>\n",
       "    <tr>\n",
       "      <th>13.0</th>\n",
       "      <td>4.386297</td>\n",
       "      <td>4.130295</td>\n",
       "      <td>4.274817</td>\n",
       "    </tr>\n",
       "    <tr>\n",
       "      <th>14.0</th>\n",
       "      <td>4.375075</td>\n",
       "      <td>4.108171</td>\n",
       "      <td>4.258477</td>\n",
       "    </tr>\n",
       "    <tr>\n",
       "      <th>15.0</th>\n",
       "      <td>4.367790</td>\n",
       "      <td>4.083818</td>\n",
       "      <td>4.239575</td>\n",
       "    </tr>\n",
       "    <tr>\n",
       "      <th>16.0</th>\n",
       "      <td>4.364899</td>\n",
       "      <td>4.066683</td>\n",
       "      <td>4.232153</td>\n",
       "    </tr>\n",
       "    <tr>\n",
       "      <th>17.0</th>\n",
       "      <td>4.356424</td>\n",
       "      <td>4.044989</td>\n",
       "      <td>4.219457</td>\n",
       "    </tr>\n",
       "    <tr>\n",
       "      <th>18.0</th>\n",
       "      <td>4.351023</td>\n",
       "      <td>4.035957</td>\n",
       "      <td>4.206522</td>\n",
       "    </tr>\n",
       "    <tr>\n",
       "      <th>19.0</th>\n",
       "      <td>4.345011</td>\n",
       "      <td>4.014628</td>\n",
       "      <td>4.193279</td>\n",
       "    </tr>\n",
       "    <tr>\n",
       "      <th>20.0</th>\n",
       "      <td>4.347759</td>\n",
       "      <td>4.002141</td>\n",
       "      <td>4.191000</td>\n",
       "    </tr>\n",
       "    <tr>\n",
       "      <th>21.0</th>\n",
       "      <td>4.343758</td>\n",
       "      <td>3.999450</td>\n",
       "      <td>4.184310</td>\n",
       "    </tr>\n",
       "    <tr>\n",
       "      <th>22.0</th>\n",
       "      <td>4.343999</td>\n",
       "      <td>3.989452</td>\n",
       "      <td>4.178603</td>\n",
       "    </tr>\n",
       "    <tr>\n",
       "      <th>23.0</th>\n",
       "      <td>4.342648</td>\n",
       "      <td>3.985403</td>\n",
       "      <td>4.173586</td>\n",
       "    </tr>\n",
       "    <tr>\n",
       "      <th>24.0</th>\n",
       "      <td>4.340558</td>\n",
       "      <td>3.982097</td>\n",
       "      <td>4.169468</td>\n",
       "    </tr>\n",
       "    <tr>\n",
       "      <th>25.0</th>\n",
       "      <td>4.339674</td>\n",
       "      <td>3.979487</td>\n",
       "      <td>4.168451</td>\n",
       "    </tr>\n",
       "  </tbody>\n",
       "</table>\n",
       "</div>"
      ],
      "text/plain": [
       "       Additive Attention (5.5M parameters)  \\\n",
       "epoch                                         \n",
       "1.0                                5.172332   \n",
       "2.0                                4.929445   \n",
       "3.0                                4.798681   \n",
       "4.0                                4.701014   \n",
       "5.0                                4.622377   \n",
       "6.0                                4.560768   \n",
       "7.0                                4.508035   \n",
       "8.0                                4.475327   \n",
       "9.0                                4.446158   \n",
       "10.0                               4.422294   \n",
       "11.0                               4.407485   \n",
       "12.0                               4.395559   \n",
       "13.0                               4.386297   \n",
       "14.0                               4.375075   \n",
       "15.0                               4.367790   \n",
       "16.0                               4.364899   \n",
       "17.0                               4.356424   \n",
       "18.0                               4.351023   \n",
       "19.0                               4.345011   \n",
       "20.0                               4.347759   \n",
       "21.0                               4.343758   \n",
       "22.0                               4.343999   \n",
       "23.0                               4.342648   \n",
       "24.0                               4.340558   \n",
       "25.0                               4.339674   \n",
       "\n",
       "       Windowed Additive Attention (5.5M parameters)  GPT2 (5.6M parameters)  \n",
       "epoch                                                                         \n",
       "1.0                                         5.212913                5.130702  \n",
       "2.0                                         4.893368                4.886001  \n",
       "3.0                                         4.741949                4.756009  \n",
       "4.0                                         4.633341                4.664287  \n",
       "5.0                                         4.538453                4.586405  \n",
       "6.0                                         4.478927                4.514636  \n",
       "7.0                                         4.393275                4.464148  \n",
       "8.0                                         4.343331                4.419113  \n",
       "9.0                                         4.295920                4.382271  \n",
       "10.0                                        4.231284                4.350220  \n",
       "11.0                                        4.203519                4.323933  \n",
       "12.0                                        4.168703                4.298260  \n",
       "13.0                                        4.130295                4.274817  \n",
       "14.0                                        4.108171                4.258477  \n",
       "15.0                                        4.083818                4.239575  \n",
       "16.0                                        4.066683                4.232153  \n",
       "17.0                                        4.044989                4.219457  \n",
       "18.0                                        4.035957                4.206522  \n",
       "19.0                                        4.014628                4.193279  \n",
       "20.0                                        4.002141                4.191000  \n",
       "21.0                                        3.999450                4.184310  \n",
       "22.0                                        3.989452                4.178603  \n",
       "23.0                                        3.985403                4.173586  \n",
       "24.0                                        3.982097                4.169468  \n",
       "25.0                                        3.979487                4.168451  "
      ]
     },
     "execution_count": null,
     "metadata": {},
     "output_type": "execute_result"
    }
   ],
   "source": [
    "import pandas as pd\n",
    "import numpy as np\n",
    "import matplotlib.pyplot as plt\n",
    "plt.rcParams['figure.figsize'] = [15, 8]\n",
    "\n",
    "loss1 = pd.DataFrame(fast_trainer.state.log_history[1::2]).set_index(\"epoch\")[\"eval_loss\"]\n",
    "loss2 = pd.DataFrame(window_trainer.state.log_history[1::2]).set_index(\"epoch\")[\"eval_loss\"]\n",
    "loss3 = pd.DataFrame(gpt_trainer.state.log_history[1::2]).set_index(\"epoch\")[\"eval_loss\"]\n",
    "results = pd.DataFrame({f\"Additive Attention ({format_num_param(fast_model)} parameters)\": loss1,\n",
    "                        f\"Windowed Additive Attention ({format_num_param(window_model)} parameters)\": loss2,\n",
    "                        f\"GPT2 ({format_num_param(gpt_model)} parameters)\": loss3\n",
    "                       }).iloc[:-1]\n",
    "results.to_csv(\"preliminary_results.csv\")\n",
    "results"
   ]
  },
  {
   "cell_type": "code",
   "execution_count": null,
   "metadata": {},
   "outputs": [
    {
     "data": {
      "text/html": [
       "<div>\n",
       "<style scoped>\n",
       "    .dataframe tbody tr th:only-of-type {\n",
       "        vertical-align: middle;\n",
       "    }\n",
       "\n",
       "    .dataframe tbody tr th {\n",
       "        vertical-align: top;\n",
       "    }\n",
       "\n",
       "    .dataframe thead th {\n",
       "        text-align: right;\n",
       "    }\n",
       "</style>\n",
       "<table border=\"1\" class=\"dataframe\">\n",
       "  <thead>\n",
       "    <tr style=\"text-align: right;\">\n",
       "      <th></th>\n",
       "      <th>Additive Attention (5.5M parameters)</th>\n",
       "      <th>Windowed Additive Attention (5.5M parameters)</th>\n",
       "      <th>GPT2 (5.6M parameters)</th>\n",
       "    </tr>\n",
       "    <tr>\n",
       "      <th>epoch</th>\n",
       "      <th></th>\n",
       "      <th></th>\n",
       "      <th></th>\n",
       "    </tr>\n",
       "  </thead>\n",
       "  <tbody>\n",
       "    <tr>\n",
       "      <th>1.0</th>\n",
       "      <td>176.325516</td>\n",
       "      <td>183.628108</td>\n",
       "      <td>169.135732</td>\n",
       "    </tr>\n",
       "    <tr>\n",
       "      <th>2.0</th>\n",
       "      <td>138.302704</td>\n",
       "      <td>133.402086</td>\n",
       "      <td>132.422969</td>\n",
       "    </tr>\n",
       "    <tr>\n",
       "      <th>3.0</th>\n",
       "      <td>121.350282</td>\n",
       "      <td>114.657461</td>\n",
       "      <td>116.280933</td>\n",
       "    </tr>\n",
       "    <tr>\n",
       "      <th>4.0</th>\n",
       "      <td>110.058668</td>\n",
       "      <td>102.857169</td>\n",
       "      <td>106.089926</td>\n",
       "    </tr>\n",
       "    <tr>\n",
       "      <th>5.0</th>\n",
       "      <td>101.735611</td>\n",
       "      <td>93.545937</td>\n",
       "      <td>98.141006</td>\n",
       "    </tr>\n",
       "    <tr>\n",
       "      <th>6.0</th>\n",
       "      <td>95.656928</td>\n",
       "      <td>88.140018</td>\n",
       "      <td>91.344314</td>\n",
       "    </tr>\n",
       "    <tr>\n",
       "      <th>7.0</th>\n",
       "      <td>90.743349</td>\n",
       "      <td>80.904932</td>\n",
       "      <td>86.846967</td>\n",
       "    </tr>\n",
       "    <tr>\n",
       "      <th>8.0</th>\n",
       "      <td>87.823315</td>\n",
       "      <td>76.963467</td>\n",
       "      <td>83.022585</td>\n",
       "    </tr>\n",
       "    <tr>\n",
       "      <th>9.0</th>\n",
       "      <td>85.298631</td>\n",
       "      <td>73.399703</td>\n",
       "      <td>80.019537</td>\n",
       "    </tr>\n",
       "    <tr>\n",
       "      <th>10.0</th>\n",
       "      <td>83.287139</td>\n",
       "      <td>68.805499</td>\n",
       "      <td>77.495526</td>\n",
       "    </tr>\n",
       "    <tr>\n",
       "      <th>11.0</th>\n",
       "      <td>82.062777</td>\n",
       "      <td>66.921405</td>\n",
       "      <td>75.484937</td>\n",
       "    </tr>\n",
       "    <tr>\n",
       "      <th>12.0</th>\n",
       "      <td>81.089934</td>\n",
       "      <td>64.631576</td>\n",
       "      <td>73.571648</td>\n",
       "    </tr>\n",
       "    <tr>\n",
       "      <th>13.0</th>\n",
       "      <td>80.342378</td>\n",
       "      <td>62.196256</td>\n",
       "      <td>71.866986</td>\n",
       "    </tr>\n",
       "    <tr>\n",
       "      <th>14.0</th>\n",
       "      <td>79.445787</td>\n",
       "      <td>60.835376</td>\n",
       "      <td>70.702237</td>\n",
       "    </tr>\n",
       "    <tr>\n",
       "      <th>15.0</th>\n",
       "      <td>78.869118</td>\n",
       "      <td>59.371716</td>\n",
       "      <td>69.378353</td>\n",
       "    </tr>\n",
       "    <tr>\n",
       "      <th>16.0</th>\n",
       "      <td>78.641432</td>\n",
       "      <td>58.363040</td>\n",
       "      <td>68.865368</td>\n",
       "    </tr>\n",
       "    <tr>\n",
       "      <th>17.0</th>\n",
       "      <td>77.977813</td>\n",
       "      <td>57.110564</td>\n",
       "      <td>67.996530</td>\n",
       "    </tr>\n",
       "    <tr>\n",
       "      <th>18.0</th>\n",
       "      <td>77.557779</td>\n",
       "      <td>56.597077</td>\n",
       "      <td>67.122712</td>\n",
       "    </tr>\n",
       "    <tr>\n",
       "      <th>19.0</th>\n",
       "      <td>77.092904</td>\n",
       "      <td>55.402678</td>\n",
       "      <td>66.239621</td>\n",
       "    </tr>\n",
       "    <tr>\n",
       "      <th>20.0</th>\n",
       "      <td>77.305047</td>\n",
       "      <td>54.715144</td>\n",
       "      <td>66.088877</td>\n",
       "    </tr>\n",
       "    <tr>\n",
       "      <th>21.0</th>\n",
       "      <td>76.996320</td>\n",
       "      <td>54.568141</td>\n",
       "      <td>65.648185</td>\n",
       "    </tr>\n",
       "    <tr>\n",
       "      <th>22.0</th>\n",
       "      <td>77.014900</td>\n",
       "      <td>54.025282</td>\n",
       "      <td>65.274581</td>\n",
       "    </tr>\n",
       "    <tr>\n",
       "      <th>23.0</th>\n",
       "      <td>76.910896</td>\n",
       "      <td>53.806985</td>\n",
       "      <td>64.947931</td>\n",
       "    </tr>\n",
       "    <tr>\n",
       "      <th>24.0</th>\n",
       "      <td>76.750321</td>\n",
       "      <td>53.629398</td>\n",
       "      <td>64.681028</td>\n",
       "    </tr>\n",
       "    <tr>\n",
       "      <th>25.0</th>\n",
       "      <td>76.682573</td>\n",
       "      <td>53.489597</td>\n",
       "      <td>64.615275</td>\n",
       "    </tr>\n",
       "  </tbody>\n",
       "</table>\n",
       "</div>"
      ],
      "text/plain": [
       "       Additive Attention (5.5M parameters)  \\\n",
       "epoch                                         \n",
       "1.0                              176.325516   \n",
       "2.0                              138.302704   \n",
       "3.0                              121.350282   \n",
       "4.0                              110.058668   \n",
       "5.0                              101.735611   \n",
       "6.0                               95.656928   \n",
       "7.0                               90.743349   \n",
       "8.0                               87.823315   \n",
       "9.0                               85.298631   \n",
       "10.0                              83.287139   \n",
       "11.0                              82.062777   \n",
       "12.0                              81.089934   \n",
       "13.0                              80.342378   \n",
       "14.0                              79.445787   \n",
       "15.0                              78.869118   \n",
       "16.0                              78.641432   \n",
       "17.0                              77.977813   \n",
       "18.0                              77.557779   \n",
       "19.0                              77.092904   \n",
       "20.0                              77.305047   \n",
       "21.0                              76.996320   \n",
       "22.0                              77.014900   \n",
       "23.0                              76.910896   \n",
       "24.0                              76.750321   \n",
       "25.0                              76.682573   \n",
       "\n",
       "       Windowed Additive Attention (5.5M parameters)  GPT2 (5.6M parameters)  \n",
       "epoch                                                                         \n",
       "1.0                                       183.628108              169.135732  \n",
       "2.0                                       133.402086              132.422969  \n",
       "3.0                                       114.657461              116.280933  \n",
       "4.0                                       102.857169              106.089926  \n",
       "5.0                                        93.545937               98.141006  \n",
       "6.0                                        88.140018               91.344314  \n",
       "7.0                                        80.904932               86.846967  \n",
       "8.0                                        76.963467               83.022585  \n",
       "9.0                                        73.399703               80.019537  \n",
       "10.0                                       68.805499               77.495526  \n",
       "11.0                                       66.921405               75.484937  \n",
       "12.0                                       64.631576               73.571648  \n",
       "13.0                                       62.196256               71.866986  \n",
       "14.0                                       60.835376               70.702237  \n",
       "15.0                                       59.371716               69.378353  \n",
       "16.0                                       58.363040               68.865368  \n",
       "17.0                                       57.110564               67.996530  \n",
       "18.0                                       56.597077               67.122712  \n",
       "19.0                                       55.402678               66.239621  \n",
       "20.0                                       54.715144               66.088877  \n",
       "21.0                                       54.568141               65.648185  \n",
       "22.0                                       54.025282               65.274581  \n",
       "23.0                                       53.806985               64.947931  \n",
       "24.0                                       53.629398               64.681028  \n",
       "25.0                                       53.489597               64.615275  "
      ]
     },
     "execution_count": null,
     "metadata": {},
     "output_type": "execute_result"
    }
   ],
   "source": [
    "ppl_results = np.exp(results)\n",
    "ppl_results"
   ]
  },
  {
   "cell_type": "code",
   "execution_count": null,
   "metadata": {},
   "outputs": [
    {
     "data": {
      "image/png": "[encoded data removed]",
      "text/plain": [
       "<Figure size 1080x576 with 1 Axes>"
      ]
     },
     "metadata": {
      "needs_background": "light"
     },
     "output_type": "display_data"
    }
   ],
   "source": [
    "ppl_results.plot()\n",
    "\n",
    "plt.ylabel(\"Validation Perplexity\")\n",
    "plt.axhline(y=ppl_results[f\"Windowed Additive Attention ({format_num_param(window_model)} parameters)\"].min(),\n",
    "            linestyle='--', label = \"Minimum Windowed Additive Attention Validation Perplexity\", color = 'C1')\n",
    "plt.legend()\n",
    "plt.savefig('preliminary_results.png', dpi = 100)\n",
    "plt.show()"
   ]
  },
  {
   "cell_type": "code",
   "execution_count": null,
   "metadata": {},
   "outputs": [],
   "source": []
  },
  {
   "cell_type": "code",
   "execution_count": null,
   "metadata": {},
   "outputs": [],
   "source": []
  },
  {
   "cell_type": "code",
   "execution_count": null,
   "metadata": {},
   "outputs": [],
   "source": []
  },
  {
   "cell_type": "markdown",
   "metadata": {},
   "source": [
    "# Appendix"
   ]
  },
  {
   "cell_type": "markdown",
   "metadata": {},
   "source": [
    "## Test set evaluation (DO NOT TUNE ON THIS, SHOULD ONLY BE RUN FOR BENCHMARKING PURPOSES)"
   ]
  },
  {
   "cell_type": "code",
   "execution_count": null,
   "metadata": {},
   "outputs": [
    {
     "name": "stderr",
     "output_type": "stream",
     "text": [
      "***** Running Evaluation *****\n",
      "  Num examples = 151\n",
      "  Batch size = 2\n"
     ]
    },
    {
     "data": {
      "text/plain": [
       "71.02056577250335"
      ]
     },
     "execution_count": null,
     "metadata": {},
     "output_type": "execute_result"
    }
   ],
   "source": [
    "fast_model.cuda()\n",
    "result = fast_trainer.evaluate(lm_dataset[\"test\"])\n",
    "torch.e**result[\"eval_loss\"]"
   ]
  },
  {
   "cell_type": "code",
   "execution_count": null,
   "metadata": {},
   "outputs": [
    {
     "name": "stderr",
     "output_type": "stream",
     "text": [
      "***** Running Evaluation *****\n",
      "  Num examples = 151\n",
      "  Batch size = 2\n"
     ]
    },
    {
     "data": {
      "text/plain": [
       "49.987058648540554"
      ]
     },
     "execution_count": null,
     "metadata": {},
     "output_type": "execute_result"
    }
   ],
   "source": [
    "window_model.cuda()\n",
    "result = window_trainer.evaluate(lm_dataset[\"test\"])\n",
    "torch.e**result[\"eval_loss\"]"
   ]
  },
  {
   "cell_type": "code",
   "execution_count": null,
   "metadata": {},
   "outputs": [
    {
     "name": "stderr",
     "output_type": "stream",
     "text": [
      "***** Running Evaluation *****\n",
      "  Num examples = 151\n",
      "  Batch size = 2\n"
     ]
    },
    {
     "data": {
      "text/plain": [
       "59.66087543042275"
      ]
     },
     "execution_count": null,
     "metadata": {},
     "output_type": "execute_result"
    }
   ],
   "source": [
    "gpt_model.cuda()\n",
    "result = gpt_trainer.evaluate(lm_dataset[\"test\"])\n",
    "torch.e**result[\"eval_loss\"]"
   ]
  },
  {
   "cell_type": "markdown",
   "metadata": {},
   "source": [
    "## Test code to try some text generation"
   ]
  },
  {
   "cell_type": "code",
   "execution_count": null,
   "metadata": {},
   "outputs": [],
   "source": [
    "# test_number = 0\n",
    "\n",
    "# input_ids = lm_dataset[\"test\"][test_number][\"input_ids\"].reshape(1, -1).cpu()\n",
    "# attention_mask = lm_dataset[\"test\"][test_number][\"attention_mask\"].reshape(1, -1).cpu()\n",
    "# labels = lm_dataset[\"test\"][test_number][\"labels\"].reshape(1, -1).cpu()"
   ]
  },
  {
   "cell_type": "code",
   "execution_count": null,
   "metadata": {},
   "outputs": [],
   "source": [
    "# test_model = window_model\n",
    "\n",
    "# test_model = test_model.cpu().eval()\n",
    "# out = test_model(input_ids=input_ids, labels = labels, attention_mask = attention_mask)\n",
    "# logits = out.logits\n",
    "# loss = out.loss\n",
    "# loss"
   ]
  },
  {
   "cell_type": "code",
   "execution_count": null,
   "metadata": {},
   "outputs": [],
   "source": [
    "# tokenizer.batch_decode(input_ids[:,:50])"
   ]
  },
  {
   "cell_type": "code",
   "execution_count": null,
   "metadata": {},
   "outputs": [],
   "source": [
    "# generated_tokens = test_model.generate(input_ids[:,:50], attention_mask = attention_mask, do_sample=True, max_length=256, temperature = .7)\n",
    "# tokenizer.batch_decode(generated_tokens)"
   ]
  },
  {
   "cell_type": "markdown",
   "metadata": {},
   "source": [
    "## Random tuning\n",
    "Short little experiment to see if other window sizes would work better, it seems the heuristic currently is use is very good and not much else performed better. The heuristic chosen after some mild testing is that window sizes should be $2*(2^{hidden\\ layer\\ number})$ with the last layer being global attention."
   ]
  },
  {
   "cell_type": "code",
   "execution_count": null,
   "metadata": {},
   "outputs": [],
   "source": [
    "# # hyperparameters\n",
    "# training_args = TrainingArguments(\n",
    "#     output_dir = \"./results\",\n",
    "#     logging_strategy = \"epoch\",\n",
    "#     evaluation_strategy =\"epoch\",\n",
    "#     save_strategy = \"epoch\",\n",
    "#     report_to = \"none\",\n",
    "#     learning_rate = 5e-4,\n",
    "#     num_train_epochs = 1,\n",
    "#     per_device_train_batch_size = 2,\n",
    "#     per_device_eval_batch_size = 2,\n",
    "#     load_best_model_at_end = True,\n",
    "#     metric_for_best_model = \"eval_loss\",\n",
    "#     max_grad_norm = 1,\n",
    "#     fp16 = True,\n",
    "#     lr_scheduler_type = \"constant\"\n",
    "# )\n",
    "\n",
    "# config = FastformerLMConfig(\n",
    "#     hidden_size = 128,\n",
    "#     vocab_size = len(tokenizer),\n",
    "#     n_positions = block_size,\n",
    "#     n_heads = 4,\n",
    "#     n_layer = 6,\n",
    "#     use_local_att = True,\n",
    "#     window_sizes = None, # set during tuning\n",
    "#     hidden_dropout_prob = .1\n",
    "# )"
   ]
  },
  {
   "cell_type": "code",
   "execution_count": null,
   "metadata": {},
   "outputs": [],
   "source": [
    "# import logging\n",
    "# import torch\n",
    "# logging.disable(logging.INFO)\n",
    "\n",
    "# import random\n",
    "# r = random.Random(2)\n",
    "# options = [4, 8, 16, 32, 64, 128, 256, 512, 1024, 2048]\n",
    "\n",
    "# results = []\n",
    "# while True:\n",
    "#     config.window_sizes = r.choices(options, k=6)\n",
    "    \n",
    "#     fast_model = FastformerForCausalLM(config)\n",
    "#     fast_trainer = Trainer(\n",
    "#         model=fast_model,\n",
    "#         args=training_args,\n",
    "#         data_collator=default_data_collator,\n",
    "#         train_dataset=lm_dataset[\"train\"],\n",
    "#         eval_dataset=lm_dataset[\"validation\"]\n",
    "#     )\n",
    "\n",
    "#     fast_trainer.train()\n",
    "#     result = {\"window_sizes\": config.window_sizes, \"loss\": fast_trainer.state.best_metric}\n",
    "#     results.append(result)\n",
    "    \n",
    "#     print(result)\n",
    "#     del fast_model\n",
    "#     del fast_trainer\n",
    "#     torch.cuda.empty_cache()"
   ]
  },
  {
   "cell_type": "code",
   "execution_count": null,
   "metadata": {},
   "outputs": [],
   "source": [
    "# import pandas as pd\n",
    "# pd.DataFrame(results).sort_values(by = \"loss\")"
   ]
  },
  {
   "cell_type": "code",
   "execution_count": null,
   "metadata": {},
   "outputs": [],
   "source": []
  }
 ],
 "metadata": {
  "kernelspec": {
   "display_name": "Python 3",
   "language": "python",
   "name": "python3"
  },
  "language_info": {
   "codemirror_mode": {
    "name": "ipython",
    "version": 3
   },
   "file_extension": ".py",
   "mimetype": "text/x-python",
   "name": "python",
   "nbconvert_exporter": "python",
   "pygments_lexer": "ipython3",
   "version": "3.8.5"
  }
 },
 "nbformat": 4,
 "nbformat_minor": 4
}
